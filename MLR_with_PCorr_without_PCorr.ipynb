{
 "cells": [
  {
   "cell_type": "code",
   "execution_count": 68,
   "metadata": {
    "collapsed": true
   },
   "outputs": [],
   "source": [
    "import os\n",
    "import pandas as pd\n",
    "import matplotlib.pyplot as plt\n",
    "os.chdir(r'C:\\Users\\hchintada\\Downloads')\n",
    "data = pd.read_csv('pastry.csv')"
   ]
  },
  {
   "cell_type": "code",
   "execution_count": 69,
   "metadata": {
    "scrolled": true
   },
   "outputs": [
    {
     "data": {
      "text/html": [
       "<div>\n",
       "<style>\n",
       "    .dataframe thead tr:only-child th {\n",
       "        text-align: right;\n",
       "    }\n",
       "\n",
       "    .dataframe thead th {\n",
       "        text-align: left;\n",
       "    }\n",
       "\n",
       "    .dataframe tbody tr th {\n",
       "        vertical-align: top;\n",
       "    }\n",
       "</style>\n",
       "<table border=\"1\" class=\"dataframe\">\n",
       "  <thead>\n",
       "    <tr style=\"text-align: right;\">\n",
       "      <th></th>\n",
       "      <th>Rating</th>\n",
       "      <th>Moisture</th>\n",
       "      <th>Sweetness</th>\n",
       "    </tr>\n",
       "  </thead>\n",
       "  <tbody>\n",
       "    <tr>\n",
       "      <th>0</th>\n",
       "      <td>64</td>\n",
       "      <td>4</td>\n",
       "      <td>2</td>\n",
       "    </tr>\n",
       "    <tr>\n",
       "      <th>1</th>\n",
       "      <td>73</td>\n",
       "      <td>4</td>\n",
       "      <td>4</td>\n",
       "    </tr>\n",
       "    <tr>\n",
       "      <th>2</th>\n",
       "      <td>61</td>\n",
       "      <td>4</td>\n",
       "      <td>2</td>\n",
       "    </tr>\n",
       "    <tr>\n",
       "      <th>3</th>\n",
       "      <td>76</td>\n",
       "      <td>4</td>\n",
       "      <td>4</td>\n",
       "    </tr>\n",
       "    <tr>\n",
       "      <th>4</th>\n",
       "      <td>72</td>\n",
       "      <td>6</td>\n",
       "      <td>2</td>\n",
       "    </tr>\n",
       "  </tbody>\n",
       "</table>\n",
       "</div>"
      ],
      "text/plain": [
       "   Rating  Moisture  Sweetness\n",
       "0      64         4          2\n",
       "1      73         4          4\n",
       "2      61         4          2\n",
       "3      76         4          4\n",
       "4      72         6          2"
      ]
     },
     "execution_count": 69,
     "metadata": {},
     "output_type": "execute_result"
    }
   ],
   "source": [
    "data.head()"
   ]
  },
  {
   "cell_type": "code",
   "execution_count": 71,
   "metadata": {
    "scrolled": true
   },
   "outputs": [
    {
     "data": {
      "image/png": "[encoded data removed]",
      "text/plain": [
       "<matplotlib.figure.Figure at 0xea5e190>"
      ]
     },
     "metadata": {},
     "output_type": "display_data"
    },
    {
     "data": {
      "image/png": "[encoded data removed]",
      "text/plain": [
       "<matplotlib.figure.Figure at 0xc32b1d0>"
      ]
     },
     "metadata": {},
     "output_type": "display_data"
    }
   ],
   "source": [
    "#plotting each of the predictors with the Y\n",
    "plt.xlabel('Sweetness')\n",
    "plt.ylabel('Rating')\n",
    "plt.title('Sweetness and Rating')\n",
    "plt.scatter(data['Sweetness'],data['Rating'])\n",
    "plt.show()\n",
    "plt.xlabel('Moisture')\n",
    "plt.ylabel('Rating')\n",
    "plt.title('Moisture and Rating')\n",
    "plt.scatter(data['Moisture'],data['Rating'])\n",
    "plt.show()"
   ]
  },
  {
   "cell_type": "code",
   "execution_count": 72,
   "metadata": {
    "scrolled": true
   },
   "outputs": [
    {
     "data": {
      "image/png": "[encoded data removed]",
      "text/plain": [
       "<matplotlib.figure.Figure at 0xeba9030>"
      ]
     },
     "metadata": {},
     "output_type": "display_data"
    }
   ],
   "source": [
    "#Plotting impact within the predictors\n",
    "plt.xlabel('Sweetness')\n",
    "plt.ylabel('Moisture')\n",
    "plt.title('Sweetness and Moisture')\n",
    "plt.scatter(data['Sweetness'],data['Moisture'])\n",
    "plt.show()"
   ]
  },
  {
   "cell_type": "code",
   "execution_count": 79,
   "metadata": {
    "collapsed": true
   },
   "outputs": [],
   "source": [
    "#SLR with Sweetness and Rating\n",
    "import statsmodels.api as sm\n",
    "X1 = data['Sweetness']\n",
    "X1 = sm.add_constant(X1) #we need to add this line (which adds a constant to the df) to get an intercept.\n",
    "y = data['Rating']\n",
    "sweet_reg = sm.OLS(y,X1)\n"
   ]
  },
  {
   "cell_type": "code",
   "execution_count": 80,
   "metadata": {},
   "outputs": [
    {
     "name": "stdout",
     "output_type": "stream",
     "text": [
      "                            OLS Regression Results                            \n",
      "==============================================================================\n",
      "Dep. Variable:                 Rating   R-squared:                       0.156\n",
      "Model:                            OLS   Adj. R-squared:                  0.095\n",
      "Method:                 Least Squares   F-statistic:                     2.582\n",
      "Date:                Tue, 06 Mar 2018   Prob (F-statistic):              0.130\n",
      "Time:                        18:06:18   Log-Likelihood:                -59.843\n",
      "No. Observations:                  16   AIC:                             123.7\n",
      "Df Residuals:                      14   BIC:                             125.2\n",
      "Df Model:                           1                                         \n",
      "Covariance Type:            nonrobust                                         \n",
      "==============================================================================\n",
      "                 coef    std err          t      P>|t|      [0.025      0.975]\n",
      "------------------------------------------------------------------------------\n",
      "const         68.6250      8.610      7.970      0.000      50.157      87.093\n",
      "Sweetness      4.3750      2.723      1.607      0.130      -1.465      10.215\n",
      "==============================================================================\n",
      "Omnibus:                        3.117   Durbin-Watson:                   0.174\n",
      "Prob(Omnibus):                  0.210   Jarque-Bera (JB):                1.166\n",
      "Skew:                          -0.025   Prob(JB):                        0.558\n",
      "Kurtosis:                       1.678   Cond. No.                         10.9\n",
      "==============================================================================\n",
      "\n",
      "Warnings:\n",
      "[1] Standard Errors assume that the covariance matrix of the errors is correctly specified.\n"
     ]
    },
    {
     "name": "stderr",
     "output_type": "stream",
     "text": [
      "C:\\Users\\hchintada\\AppData\\Local\\Continuum\\Anaconda3\\lib\\site-packages\\scipy\\stats\\stats.py:1334: UserWarning: kurtosistest only valid for n>=20 ... continuing anyway, n=16\n",
      "  \"anyway, n=%i\" % int(n))\n"
     ]
    }
   ],
   "source": [
    "#Viewing the sweet_rating model results\n",
    "sweet_results = sweet_reg.fit()\n",
    "print(sweet_results.summary())"
   ]
  },
  {
   "cell_type": "code",
   "execution_count": 81,
   "metadata": {
    "collapsed": true
   },
   "outputs": [],
   "source": [
    "#SLR with Moisture and Rating\n",
    "import statsmodels.api as sm\n",
    "X2 = data['Moisture']\n",
    "X2 = sm.add_constant(X2)\n",
    "moist_reg = sm.OLS(y,X2)"
   ]
  },
  {
   "cell_type": "code",
   "execution_count": 82,
   "metadata": {},
   "outputs": [
    {
     "name": "stdout",
     "output_type": "stream",
     "text": [
      "                            OLS Regression Results                            \n",
      "==============================================================================\n",
      "Dep. Variable:                 Rating   R-squared:                       0.796\n",
      "Model:                            OLS   Adj. R-squared:                  0.782\n",
      "Method:                 Least Squares   F-statistic:                     54.75\n",
      "Date:                Tue, 06 Mar 2018   Prob (F-statistic):           3.36e-06\n",
      "Time:                        18:07:54   Log-Likelihood:                -48.465\n",
      "No. Observations:                  16   AIC:                             100.9\n",
      "Df Residuals:                      14   BIC:                             102.5\n",
      "Df Model:                           1                                         \n",
      "Covariance Type:            nonrobust                                         \n",
      "==============================================================================\n",
      "                 coef    std err          t      P>|t|      [0.025      0.975]\n",
      "------------------------------------------------------------------------------\n",
      "const         50.7750      4.395     11.554      0.000      41.350      60.200\n",
      "Moisture       4.4250      0.598      7.399      0.000       3.142       5.708\n",
      "==============================================================================\n",
      "Omnibus:                        4.121   Durbin-Watson:                   3.381\n",
      "Prob(Omnibus):                  0.127   Jarque-Bera (JB):                1.318\n",
      "Skew:                          -0.053   Prob(JB):                        0.517\n",
      "Kurtosis:                       1.598   Cond. No.                         24.6\n",
      "==============================================================================\n",
      "\n",
      "Warnings:\n",
      "[1] Standard Errors assume that the covariance matrix of the errors is correctly specified.\n"
     ]
    },
    {
     "name": "stderr",
     "output_type": "stream",
     "text": [
      "C:\\Users\\hchintada\\AppData\\Local\\Continuum\\Anaconda3\\lib\\site-packages\\scipy\\stats\\stats.py:1334: UserWarning: kurtosistest only valid for n>=20 ... continuing anyway, n=16\n",
      "  \"anyway, n=%i\" % int(n))\n"
     ]
    }
   ],
   "source": [
    "#Viewing the sweet_rating model results\n",
    "moist_results = moist_reg.fit()\n",
    "print(moist_results.summary())"
   ]
  },
  {
   "cell_type": "code",
   "execution_count": 74,
   "metadata": {},
   "outputs": [],
   "source": [
    "#Building the model with all Xs\n",
    "X = data.drop(['Rating'],axis=1,inplace = False)\n",
    "X = sm.add_constant(X)\n",
    "model = sm.OLS(y,X)"
   ]
  },
  {
   "cell_type": "code",
   "execution_count": 75,
   "metadata": {
    "scrolled": true
   },
   "outputs": [
    {
     "name": "stdout",
     "output_type": "stream",
     "text": [
      "                            OLS Regression Results                            \n",
      "==============================================================================\n",
      "Dep. Variable:                 Rating   R-squared:                       0.952\n",
      "Model:                            OLS   Adj. R-squared:                  0.945\n",
      "Method:                 Least Squares   F-statistic:                     129.1\n",
      "Date:                Tue, 06 Mar 2018   Prob (F-statistic):           2.66e-09\n",
      "Time:                        17:55:48   Log-Likelihood:                -36.894\n",
      "No. Observations:                  16   AIC:                             79.79\n",
      "Df Residuals:                      13   BIC:                             82.11\n",
      "Df Model:                           2                                         \n",
      "Covariance Type:            nonrobust                                         \n",
      "==============================================================================\n",
      "                 coef    std err          t      P>|t|      [0.025      0.975]\n",
      "------------------------------------------------------------------------------\n",
      "const         37.6500      2.996     12.566      0.000      31.177      44.123\n",
      "Moisture       4.4250      0.301     14.695      0.000       3.774       5.076\n",
      "Sweetness      4.3750      0.673      6.498      0.000       2.920       5.830\n",
      "==============================================================================\n",
      "Omnibus:                        0.766   Durbin-Watson:                   2.313\n",
      "Prob(Omnibus):                  0.682   Jarque-Bera (JB):                0.647\n",
      "Skew:                           0.049   Prob(JB):                        0.724\n",
      "Kurtosis:                       2.020   Cond. No.                         35.9\n",
      "==============================================================================\n",
      "\n",
      "Warnings:\n",
      "[1] Standard Errors assume that the covariance matrix of the errors is correctly specified.\n"
     ]
    },
    {
     "name": "stderr",
     "output_type": "stream",
     "text": [
      "C:\\Users\\hchintada\\AppData\\Local\\Continuum\\Anaconda3\\lib\\site-packages\\scipy\\stats\\stats.py:1334: UserWarning: kurtosistest only valid for n>=20 ... continuing anyway, n=16\n",
      "  \"anyway, n=%i\" % int(n))\n"
     ]
    }
   ],
   "source": [
    "#Viewing the model results\n",
    "results = model.fit()\n",
    "print(results.summary())"
   ]
  },
  {
   "cell_type": "code",
   "execution_count": 85,
   "metadata": {},
   "outputs": [
    {
     "data": {
      "text/html": [
       "<div>\n",
       "<style>\n",
       "    .dataframe thead tr:only-child th {\n",
       "        text-align: right;\n",
       "    }\n",
       "\n",
       "    .dataframe thead th {\n",
       "        text-align: left;\n",
       "    }\n",
       "\n",
       "    .dataframe tbody tr th {\n",
       "        vertical-align: top;\n",
       "    }\n",
       "</style>\n",
       "<table border=\"1\" class=\"dataframe\">\n",
       "  <thead>\n",
       "    <tr style=\"text-align: right;\">\n",
       "      <th></th>\n",
       "      <th>Rating</th>\n",
       "      <th>Moisture</th>\n",
       "      <th>Sweetness</th>\n",
       "    </tr>\n",
       "  </thead>\n",
       "  <tbody>\n",
       "    <tr>\n",
       "      <th>Rating</th>\n",
       "      <td>1.000000</td>\n",
       "      <td>0.892393</td>\n",
       "      <td>0.394581</td>\n",
       "    </tr>\n",
       "    <tr>\n",
       "      <th>Moisture</th>\n",
       "      <td>0.892393</td>\n",
       "      <td>1.000000</td>\n",
       "      <td>0.000000</td>\n",
       "    </tr>\n",
       "    <tr>\n",
       "      <th>Sweetness</th>\n",
       "      <td>0.394581</td>\n",
       "      <td>0.000000</td>\n",
       "      <td>1.000000</td>\n",
       "    </tr>\n",
       "  </tbody>\n",
       "</table>\n",
       "</div>"
      ],
      "text/plain": [
       "             Rating  Moisture  Sweetness\n",
       "Rating     1.000000  0.892393   0.394581\n",
       "Moisture   0.892393  1.000000   0.000000\n",
       "Sweetness  0.394581  0.000000   1.000000"
      ]
     },
     "execution_count": 85,
     "metadata": {},
     "output_type": "execute_result"
    }
   ],
   "source": [
    "#zero correlation between sweetness and moisture\n",
    "data.corr()"
   ]
  },
  {
   "cell_type": "code",
   "execution_count": null,
   "metadata": {
    "collapsed": true
   },
   "outputs": [],
   "source": []
  },
  {
   "cell_type": "markdown",
   "metadata": {},
   "source": [
    "# Dataset with partial correlation"
   ]
  },
  {
   "cell_type": "code",
   "execution_count": 87,
   "metadata": {
    "scrolled": true
   },
   "outputs": [
    {
     "data": {
      "text/html": [
       "<div>\n",
       "<style>\n",
       "    .dataframe thead tr:only-child th {\n",
       "        text-align: right;\n",
       "    }\n",
       "\n",
       "    .dataframe thead th {\n",
       "        text-align: left;\n",
       "    }\n",
       "\n",
       "    .dataframe tbody tr th {\n",
       "        vertical-align: top;\n",
       "    }\n",
       "</style>\n",
       "<table border=\"1\" class=\"dataframe\">\n",
       "  <thead>\n",
       "    <tr style=\"text-align: right;\">\n",
       "      <th></th>\n",
       "      <th>Height</th>\n",
       "      <th>momheight</th>\n",
       "      <th>dadheight</th>\n",
       "    </tr>\n",
       "  </thead>\n",
       "  <tbody>\n",
       "    <tr>\n",
       "      <th>0</th>\n",
       "      <td>66.0</td>\n",
       "      <td>66.0</td>\n",
       "      <td>71.0</td>\n",
       "    </tr>\n",
       "    <tr>\n",
       "      <th>1</th>\n",
       "      <td>64.0</td>\n",
       "      <td>62.0</td>\n",
       "      <td>68.0</td>\n",
       "    </tr>\n",
       "    <tr>\n",
       "      <th>2</th>\n",
       "      <td>64.0</td>\n",
       "      <td>65.0</td>\n",
       "      <td>70.0</td>\n",
       "    </tr>\n",
       "    <tr>\n",
       "      <th>3</th>\n",
       "      <td>69.0</td>\n",
       "      <td>66.0</td>\n",
       "      <td>76.0</td>\n",
       "    </tr>\n",
       "    <tr>\n",
       "      <th>4</th>\n",
       "      <td>66.0</td>\n",
       "      <td>63.0</td>\n",
       "      <td>70.0</td>\n",
       "    </tr>\n",
       "  </tbody>\n",
       "</table>\n",
       "</div>"
      ],
      "text/plain": [
       "   Height  momheight  dadheight\n",
       "0    66.0       66.0       71.0\n",
       "1    64.0       62.0       68.0\n",
       "2    64.0       65.0       70.0\n",
       "3    69.0       66.0       76.0\n",
       "4    66.0       63.0       70.0"
      ]
     },
     "execution_count": 87,
     "metadata": {},
     "output_type": "execute_result"
    }
   ],
   "source": [
    "data1 = pd.read_csv('female_stats.csv')\n",
    "data1.head()"
   ]
  },
  {
   "cell_type": "markdown",
   "metadata": {},
   "source": [
    "The variables are y = student’s self-reported height, x1 = student’s guess at her mother’s height, and x2 = student’s guess at her father’s height."
   ]
  },
  {
   "cell_type": "code",
   "execution_count": 94,
   "metadata": {
    "scrolled": true
   },
   "outputs": [
    {
     "data": {
      "image/png": "[encoded data removed]",
      "text/plain": [
       "<matplotlib.figure.Figure at 0xee31430>"
      ]
     },
     "metadata": {},
     "output_type": "display_data"
    },
    {
     "data": {
      "image/png": "[encoded data removed]",
      "text/plain": [
       "<matplotlib.figure.Figure at 0xec9c8b0>"
      ]
     },
     "metadata": {},
     "output_type": "display_data"
    }
   ],
   "source": [
    "#plotting the variables\n",
    "plt.title('Height vs momheight')\n",
    "plt.ylabel('Height')\n",
    "plt.scatter('momheight','Height',data=data1)\n",
    "plt.show()\n",
    "plt.title('Height vs dadheight')\n",
    "plt.ylabel('Height')\n",
    "plt.scatter('dadheight','Height',data=data1)\n",
    "plt.show()"
   ]
  },
  {
   "cell_type": "code",
   "execution_count": 100,
   "metadata": {},
   "outputs": [
    {
     "data": {
      "image/png": "[encoded data removed]",
      "text/plain": [
       "<matplotlib.figure.Figure at 0xedaf2b0>"
      ]
     },
     "metadata": {},
     "output_type": "display_data"
    }
   ],
   "source": [
    "plt.title('momheight vs dadheight')\n",
    "plt.xlabel('dadheight')\n",
    "plt.ylabel('momeight')\n",
    "plt.scatter('dadheight','momheight',data=data1)\n",
    "plt.show()"
   ]
  },
  {
   "cell_type": "code",
   "execution_count": 102,
   "metadata": {
    "scrolled": true
   },
   "outputs": [
    {
     "name": "stdout",
     "output_type": "stream",
     "text": [
      "             Height  momheight  dadheight\n",
      "Height     1.000000   0.502272   0.591721\n",
      "momheight  0.502272   1.000000   0.402028\n",
      "dadheight  0.591721   0.402028   1.000000\n"
     ]
    }
   ],
   "source": [
    "print(data1.corr())"
   ]
  },
  {
   "cell_type": "code",
   "execution_count": 105,
   "metadata": {},
   "outputs": [
    {
     "name": "stdout",
     "output_type": "stream",
     "text": [
      "                            OLS Regression Results                            \n",
      "==============================================================================\n",
      "Dep. Variable:                 Height   R-squared:                       0.252\n",
      "Model:                            OLS   Adj. R-squared:                  0.249\n",
      "Method:                 Least Squares   F-statistic:                     71.53\n",
      "Date:                Tue, 06 Mar 2018   Prob (F-statistic):           4.45e-15\n",
      "Time:                        18:46:05   Log-Likelihood:                -483.48\n",
      "No. Observations:                 214   AIC:                             971.0\n",
      "Df Residuals:                     212   BIC:                             977.7\n",
      "Df Model:                           1                                         \n",
      "Covariance Type:            nonrobust                                         \n",
      "==============================================================================\n",
      "                 coef    std err          t      P>|t|      [0.025      0.975]\n",
      "------------------------------------------------------------------------------\n",
      "const         34.0223      3.641      9.345      0.000      26.846      41.199\n",
      "momheight      0.4834      0.057      8.457      0.000       0.371       0.596\n",
      "==============================================================================\n",
      "Omnibus:                        1.934   Durbin-Watson:                   1.901\n",
      "Prob(Omnibus):                  0.380   Jarque-Bera (JB):                2.000\n",
      "Skew:                           0.221   Prob(JB):                        0.368\n",
      "Kurtosis:                       2.832   Cond. No.                     1.46e+03\n",
      "==============================================================================\n",
      "\n",
      "Warnings:\n",
      "[1] Standard Errors assume that the covariance matrix of the errors is correctly specified.\n",
      "[2] The condition number is large, 1.46e+03. This might indicate that there are\n",
      "strong multicollinearity or other numerical problems.\n"
     ]
    }
   ],
   "source": [
    "#SLR with momheight and Height\n",
    "X1 = data1['momheight']\n",
    "X1 = sm.add_constant(X1) #we need to add this line (which adds a constant to the df) to get an intercept.\n",
    "y = data1['Height']\n",
    "mom_reg = sm.OLS(y,X1)\n",
    "results = mom_reg.fit()\n",
    "print(results.summary())"
   ]
  },
  {
   "cell_type": "code",
   "execution_count": 106,
   "metadata": {},
   "outputs": [
    {
     "name": "stdout",
     "output_type": "stream",
     "text": [
      "                            OLS Regression Results                            \n",
      "==============================================================================\n",
      "Dep. Variable:                 Height   R-squared:                       0.350\n",
      "Model:                            OLS   Adj. R-squared:                  0.347\n",
      "Method:                 Least Squares   F-statistic:                     114.2\n",
      "Date:                Tue, 06 Mar 2018   Prob (F-statistic):           1.32e-21\n",
      "Time:                        18:47:20   Log-Likelihood:                -468.47\n",
      "No. Observations:                 214   AIC:                             940.9\n",
      "Df Residuals:                     212   BIC:                             947.7\n",
      "Df Model:                           1                                         \n",
      "Covariance Type:            nonrobust                                         \n",
      "==============================================================================\n",
      "                 coef    std err          t      P>|t|      [0.025      0.975]\n",
      "------------------------------------------------------------------------------\n",
      "const         30.5190      3.209      9.509      0.000      24.193      36.845\n",
      "dadheight      0.4936      0.046     10.687      0.000       0.403       0.585\n",
      "==============================================================================\n",
      "Omnibus:                        4.188   Durbin-Watson:                   1.939\n",
      "Prob(Omnibus):                  0.123   Jarque-Bera (JB):                3.024\n",
      "Skew:                           0.142   Prob(JB):                        0.220\n",
      "Kurtosis:                       2.491   Cond. No.                     1.50e+03\n",
      "==============================================================================\n",
      "\n",
      "Warnings:\n",
      "[1] Standard Errors assume that the covariance matrix of the errors is correctly specified.\n",
      "[2] The condition number is large, 1.5e+03. This might indicate that there are\n",
      "strong multicollinearity or other numerical problems.\n"
     ]
    }
   ],
   "source": [
    "#SLR with dadheight and Height\n",
    "X1 = data1['dadheight']\n",
    "X1 = sm.add_constant(X1) #we need to add this line (which adds a constant to the df) to get an intercept.\n",
    "y = data1['Height']\n",
    "dad_reg = sm.OLS(y,X1)\n",
    "results = dad_reg.fit()\n",
    "print(results.summary())"
   ]
  },
  {
   "cell_type": "code",
   "execution_count": 112,
   "metadata": {},
   "outputs": [
    {
     "name": "stdout",
     "output_type": "stream",
     "text": [
      "                            OLS Regression Results                            \n",
      "==============================================================================\n",
      "Dep. Variable:                 Height   R-squared:                       0.434\n",
      "Model:                            OLS   Adj. R-squared:                  0.428\n",
      "Method:                 Least Squares   F-statistic:                     80.73\n",
      "Date:                Tue, 06 Mar 2018   Prob (F-statistic):           9.16e-27\n",
      "Time:                        18:58:51   Log-Likelihood:                -453.78\n",
      "No. Observations:                 214   AIC:                             913.6\n",
      "Df Residuals:                     211   BIC:                             923.7\n",
      "Df Model:                           2                                         \n",
      "Covariance Type:            nonrobust                                         \n",
      "==============================================================================\n",
      "                 coef    std err          t      P>|t|      [0.025      0.975]\n",
      "------------------------------------------------------------------------------\n",
      "const         18.5473      3.693      5.023      0.000      11.268      25.827\n",
      "momheight      0.3035      0.054      5.573      0.000       0.196       0.411\n",
      "dadheight      0.3879      0.047      8.216      0.000       0.295       0.481\n",
      "==============================================================================\n",
      "Omnibus:                        1.333   Durbin-Watson:                   1.927\n",
      "Prob(Omnibus):                  0.513   Jarque-Bera (JB):                1.216\n",
      "Skew:                          -0.007   Prob(JB):                        0.544\n",
      "Kurtosis:                       2.631   Cond. No.                     2.51e+03\n",
      "==============================================================================\n",
      "\n",
      "Warnings:\n",
      "[1] Standard Errors assume that the covariance matrix of the errors is correctly specified.\n",
      "[2] The condition number is large, 2.51e+03. This might indicate that there are\n",
      "strong multicollinearity or other numerical problems.\n"
     ]
    }
   ],
   "source": [
    "#Building the model with all Xs\n",
    "predictors = data1.drop(['Height'],axis=1,inplace = False)\n",
    "predictors = sm.add_constant(predictors)\n",
    "label = data1['Height']\n",
    "height_model = sm.OLS(label,predictors)\n",
    "results = height_model.fit()\n",
    "print(results.summary())"
   ]
  },
  {
   "cell_type": "code",
   "execution_count": 97,
   "metadata": {
    "scrolled": false
   },
   "outputs": [
    {
     "data": {
      "text/html": [
       "<div>\n",
       "<style>\n",
       "    .dataframe thead tr:only-child th {\n",
       "        text-align: right;\n",
       "    }\n",
       "\n",
       "    .dataframe thead th {\n",
       "        text-align: left;\n",
       "    }\n",
       "\n",
       "    .dataframe tbody tr th {\n",
       "        vertical-align: top;\n",
       "    }\n",
       "</style>\n",
       "<table border=\"1\" class=\"dataframe\">\n",
       "  <thead>\n",
       "    <tr style=\"text-align: right;\">\n",
       "      <th></th>\n",
       "      <th>Height</th>\n",
       "      <th>momheight</th>\n",
       "      <th>dadheight</th>\n",
       "    </tr>\n",
       "  </thead>\n",
       "  <tbody>\n",
       "    <tr>\n",
       "      <th>Height</th>\n",
       "      <td>1.000000</td>\n",
       "      <td>0.502272</td>\n",
       "      <td>0.591721</td>\n",
       "    </tr>\n",
       "    <tr>\n",
       "      <th>momheight</th>\n",
       "      <td>0.502272</td>\n",
       "      <td>1.000000</td>\n",
       "      <td>0.402028</td>\n",
       "    </tr>\n",
       "    <tr>\n",
       "      <th>dadheight</th>\n",
       "      <td>0.591721</td>\n",
       "      <td>0.402028</td>\n",
       "      <td>1.000000</td>\n",
       "    </tr>\n",
       "  </tbody>\n",
       "</table>\n",
       "</div>"
      ],
      "text/plain": [
       "             Height  momheight  dadheight\n",
       "Height     1.000000   0.502272   0.591721\n",
       "momheight  0.502272   1.000000   0.402028\n",
       "dadheight  0.591721   0.402028   1.000000"
      ]
     },
     "execution_count": 97,
     "metadata": {},
     "output_type": "execute_result"
    }
   ],
   "source": [
    "data1.corr()"
   ]
  },
  {
   "cell_type": "markdown",
   "metadata": {},
   "source": [
    "# Partial regresson plots\n",
    "\n",
    "In a partial regression plot, to discern the relationship between the response variable and the  k -th variabe, we compute \n",
    "the residuals by regressing the response variable versus the independent variables excluding  Xk . We can denote this by \n",
    "X∼k . We then compute the residuals by regressing  Xk  on  X∼k . The partial regression plot is the plot \n",
    "of the former versus the latter residuals. \n",
    "\n",
    "The notable points of this plot are that the fitted line has slope  βk  and intercept zero. The residuals of this plot \n",
    "are the same as those of the least squares fit of the original model with full  X . You can discern the effects of the \n",
    "individual data values on the estimation of a coefficient easily. You can also see the violation of underlying assumptions such as homooskedasticity and \n",
    "linearity."
   ]
  },
  {
   "cell_type": "code",
   "execution_count": 116,
   "metadata": {},
   "outputs": [
    {
     "data": {
      "image/png": "[encoded data removed]",
      "text/plain": [
       "<matplotlib.figure.Figure at 0xee97050>"
      ]
     },
     "metadata": {},
     "output_type": "display_data"
    }
   ],
   "source": [
    "#Partial regressor plots\n",
    "fig = plt.figure(figsize=(12,8))\n",
    "fig = sm.graphics.plot_partregress_grid(results, fig=fig)"
   ]
  }
 ],
 "metadata": {
  "kernelspec": {
   "display_name": "Python 3",
   "language": "python",
   "name": "python3"
  },
  "language_info": {
   "codemirror_mode": {
    "name": "ipython",
    "version": 3
   },
   "file_extension": ".py",
   "mimetype": "text/x-python",
   "name": "python",
   "nbconvert_exporter": "python",
   "pygments_lexer": "ipython3",
   "version": "3.6.1"
  }
 },
 "nbformat": 4,
 "nbformat_minor": 2
}
