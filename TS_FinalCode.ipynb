{
 "cells": [
  {
   "cell_type": "markdown",
   "metadata": {},
   "source": [
    "# Predicting Tensile Strengths of Alloys Using Machine Learning"
   ]
  },
  {
   "cell_type": "markdown",
   "metadata": {},
   "source": [
    "This notebook uses over 350 alloys to model tensile strengths based on alloy compositions, and uses the model to predict tensile strengths of new compounds. It creates features based on the composition of each entry, trains a random forest model, and then uses the model to predict new compound tensile strengths.\n",
    "\n",
    "Alloy data taken from [here](https://www.nickelinstitute.org/~/media/files/technicalliterature/propertiesofsomemetalsandalloys_297_.pdf)"
   ]
  },
  {
   "cell_type": "code",
   "execution_count": 183,
   "metadata": {
    "collapsed": true
   },
   "outputs": [],
   "source": [
    "#Before loading the dataset, we import the required libraries and packages\n",
    "\n",
    "import pandas as pd         #pandas provides easy-to-use data structures and data analysis tools\n",
    "import numpy as np          #numpy provides numerical tools\n",
    "from itertools import combinations,permutations        #helps create new compounds\n",
    "from sklearn.model_selection import train_test_split   #used to create a test set for checking accuracy\n",
    "from sklearn.ensemble import RandomForestRegressor     #the randomforest used for training the model\n",
    "from sklearn.metrics import mean_absolute_error as mae #This is the metric we use to check error/accuracy"
   ]
  },
  {
   "cell_type": "markdown",
   "metadata": {},
   "source": [
    "## Loading the dataset using pandas from the local folder"
   ]
  },
  {
   "cell_type": "code",
   "execution_count": 327,
   "metadata": {
    "collapsed": true
   },
   "outputs": [],
   "source": [
    "file_location = r'C:\\Users\\hchintada\\Downloads\\TS_Project\\finaldata_alloy_comp.csv'\n",
    "#change file_location in the above line accordingly.\n",
    "# ex: file_location = r'C:\\Users\\Sushma\\TSproject\\finaldata_alloy_comp.csv'\n",
    "data = pd.read_csv(file_location) #loads the data into a pandas dataframe"
   ]
  },
  {
   "cell_type": "markdown",
   "metadata": {},
   "source": [
    "Having a brief look at the data that is loaded. head() method outputs the top 5 rows of the dataset"
   ]
  },
  {
   "cell_type": "code",
   "execution_count": 328,
   "metadata": {
    "scrolled": true
   },
   "outputs": [
    {
     "data": {
      "text/html": [
       "<div>\n",
       "<style scoped>\n",
       "    .dataframe tbody tr th:only-of-type {\n",
       "        vertical-align: middle;\n",
       "    }\n",
       "\n",
       "    .dataframe tbody tr th {\n",
       "        vertical-align: top;\n",
       "    }\n",
       "\n",
       "    .dataframe thead th {\n",
       "        text-align: right;\n",
       "    }\n",
       "</style>\n",
       "<table border=\"1\" class=\"dataframe\">\n",
       "  <thead>\n",
       "    <tr style=\"text-align: right;\">\n",
       "      <th></th>\n",
       "      <th>composition</th>\n",
       "      <th>m1</th>\n",
       "      <th>m1%</th>\n",
       "      <th>m2</th>\n",
       "      <th>m2%</th>\n",
       "      <th>m3</th>\n",
       "      <th>m3%</th>\n",
       "      <th>m4</th>\n",
       "      <th>m4%</th>\n",
       "      <th>m5</th>\n",
       "      <th>...</th>\n",
       "      <th>m7%</th>\n",
       "      <th>m8</th>\n",
       "      <th>m8%</th>\n",
       "      <th>m9</th>\n",
       "      <th>m9%</th>\n",
       "      <th>m10</th>\n",
       "      <th>m10%</th>\n",
       "      <th>m11</th>\n",
       "      <th>m11%</th>\n",
       "      <th>TS</th>\n",
       "    </tr>\n",
       "  </thead>\n",
       "  <tbody>\n",
       "    <tr>\n",
       "      <th>0</th>\n",
       "      <td>Cu99.90</td>\n",
       "      <td>Cu</td>\n",
       "      <td>99.90</td>\n",
       "      <td>NaN</td>\n",
       "      <td>NaN</td>\n",
       "      <td>NaN</td>\n",
       "      <td>NaN</td>\n",
       "      <td>NaN</td>\n",
       "      <td>NaN</td>\n",
       "      <td>NaN</td>\n",
       "      <td>...</td>\n",
       "      <td>NaN</td>\n",
       "      <td>NaN</td>\n",
       "      <td>NaN</td>\n",
       "      <td>NaN</td>\n",
       "      <td>NaN</td>\n",
       "      <td>NaN</td>\n",
       "      <td>NaN</td>\n",
       "      <td>NaN</td>\n",
       "      <td>NaN</td>\n",
       "      <td>32.0</td>\n",
       "    </tr>\n",
       "    <tr>\n",
       "      <th>1</th>\n",
       "      <td>Cu98.05,Be1.7,Co0.25</td>\n",
       "      <td>Cu</td>\n",
       "      <td>98.05</td>\n",
       "      <td>Be</td>\n",
       "      <td>1.70</td>\n",
       "      <td>Co</td>\n",
       "      <td>0.25</td>\n",
       "      <td>NaN</td>\n",
       "      <td>NaN</td>\n",
       "      <td>NaN</td>\n",
       "      <td>...</td>\n",
       "      <td>NaN</td>\n",
       "      <td>NaN</td>\n",
       "      <td>NaN</td>\n",
       "      <td>NaN</td>\n",
       "      <td>NaN</td>\n",
       "      <td>NaN</td>\n",
       "      <td>NaN</td>\n",
       "      <td>NaN</td>\n",
       "      <td>NaN</td>\n",
       "      <td>165.0</td>\n",
       "    </tr>\n",
       "    <tr>\n",
       "      <th>2</th>\n",
       "      <td>Cu97.85,Be1.9,Co0.25</td>\n",
       "      <td>Cu</td>\n",
       "      <td>97.85</td>\n",
       "      <td>Be</td>\n",
       "      <td>1.90</td>\n",
       "      <td>Co</td>\n",
       "      <td>0.25</td>\n",
       "      <td>NaN</td>\n",
       "      <td>NaN</td>\n",
       "      <td>NaN</td>\n",
       "      <td>...</td>\n",
       "      <td>NaN</td>\n",
       "      <td>NaN</td>\n",
       "      <td>NaN</td>\n",
       "      <td>NaN</td>\n",
       "      <td>NaN</td>\n",
       "      <td>NaN</td>\n",
       "      <td>NaN</td>\n",
       "      <td>NaN</td>\n",
       "      <td>NaN</td>\n",
       "      <td>175.0</td>\n",
       "    </tr>\n",
       "    <tr>\n",
       "      <th>3</th>\n",
       "      <td>Cu96.9,Be0.6,Co2.5</td>\n",
       "      <td>Cu</td>\n",
       "      <td>96.90</td>\n",
       "      <td>Be</td>\n",
       "      <td>0.60</td>\n",
       "      <td>Co</td>\n",
       "      <td>2.50</td>\n",
       "      <td>NaN</td>\n",
       "      <td>NaN</td>\n",
       "      <td>NaN</td>\n",
       "      <td>...</td>\n",
       "      <td>NaN</td>\n",
       "      <td>NaN</td>\n",
       "      <td>NaN</td>\n",
       "      <td>NaN</td>\n",
       "      <td>NaN</td>\n",
       "      <td>NaN</td>\n",
       "      <td>NaN</td>\n",
       "      <td>NaN</td>\n",
       "      <td>NaN</td>\n",
       "      <td>110.0</td>\n",
       "    </tr>\n",
       "    <tr>\n",
       "      <th>4</th>\n",
       "      <td>Cu97.07,Be0.38,Co1.55,Ag1</td>\n",
       "      <td>Cu</td>\n",
       "      <td>97.07</td>\n",
       "      <td>Be</td>\n",
       "      <td>0.38</td>\n",
       "      <td>Co</td>\n",
       "      <td>1.55</td>\n",
       "      <td>Ag</td>\n",
       "      <td>1.0</td>\n",
       "      <td>NaN</td>\n",
       "      <td>...</td>\n",
       "      <td>NaN</td>\n",
       "      <td>NaN</td>\n",
       "      <td>NaN</td>\n",
       "      <td>NaN</td>\n",
       "      <td>NaN</td>\n",
       "      <td>NaN</td>\n",
       "      <td>NaN</td>\n",
       "      <td>NaN</td>\n",
       "      <td>NaN</td>\n",
       "      <td>110.0</td>\n",
       "    </tr>\n",
       "  </tbody>\n",
       "</table>\n",
       "<p>5 rows × 24 columns</p>\n",
       "</div>"
      ],
      "text/plain": [
       "                 composition  m1    m1%   m2   m2%   m3   m3%   m4  m4%   m5  \\\n",
       "0                    Cu99.90  Cu  99.90  NaN   NaN  NaN   NaN  NaN  NaN  NaN   \n",
       "1       Cu98.05,Be1.7,Co0.25  Cu  98.05   Be  1.70   Co  0.25  NaN  NaN  NaN   \n",
       "2       Cu97.85,Be1.9,Co0.25  Cu  97.85   Be  1.90   Co  0.25  NaN  NaN  NaN   \n",
       "3         Cu96.9,Be0.6,Co2.5  Cu  96.90   Be  0.60   Co  2.50  NaN  NaN  NaN   \n",
       "4  Cu97.07,Be0.38,Co1.55,Ag1  Cu  97.07   Be  0.38   Co  1.55   Ag  1.0  NaN   \n",
       "\n",
       "   ...    m7%   m8  m8%   m9  m9%  m10  m10%  m11  m11%     TS  \n",
       "0  ...    NaN  NaN  NaN  NaN  NaN  NaN   NaN  NaN   NaN   32.0  \n",
       "1  ...    NaN  NaN  NaN  NaN  NaN  NaN   NaN  NaN   NaN  165.0  \n",
       "2  ...    NaN  NaN  NaN  NaN  NaN  NaN   NaN  NaN   NaN  175.0  \n",
       "3  ...    NaN  NaN  NaN  NaN  NaN  NaN   NaN  NaN   NaN  110.0  \n",
       "4  ...    NaN  NaN  NaN  NaN  NaN  NaN   NaN  NaN   NaN  110.0  \n",
       "\n",
       "[5 rows x 24 columns]"
      ]
     },
     "execution_count": 328,
     "metadata": {},
     "output_type": "execute_result"
    }
   ],
   "source": [
    "data.head()"
   ]
  },
  {
   "cell_type": "markdown",
   "metadata": {},
   "source": [
    "# Creating new compounds\n",
    "Creating over 18,000 random combinations of three metals with random weights"
   ]
  },
  {
   "cell_type": "markdown",
   "metadata": {},
   "source": [
    "## Create random weights\n",
    "Initializing random weights for components that sum up to 100"
   ]
  },
  {
   "cell_type": "code",
   "execution_count": 329,
   "metadata": {
    "collapsed": true
   },
   "outputs": [],
   "source": [
    "def wt():\n",
    "    weights = np.random.random(3)\n",
    "    weights /= weights.sum();weights*=100;weights = weights.round(2)\n",
    "    return weights"
   ]
  },
  {
   "cell_type": "markdown",
   "metadata": {},
   "source": [
    "## Create random metal-weight combinations of size 3"
   ]
  },
  {
   "cell_type": "code",
   "execution_count": 330,
   "metadata": {},
   "outputs": [
    {
     "name": "stdout",
     "output_type": "stream",
     "text": [
      "Number of new randomly generated components: 18424\n"
     ]
    }
   ],
   "source": [
    "metals = []\n",
    "for column in 'm1 m2 m3 m4 m5 m6 m7 m8 m9 m10 m11'.split(' '):\n",
    "    metals.extend(data[column].dropna().drop_duplicates())\n",
    "    metals = list(set(metals))\n",
    "metals = np.asarray(metals)\n",
    "metals[metals!='nan']\n",
    "metals.sort()\n",
    "\n",
    "new_comps = []\n",
    "for i in combinations(metals,3):\n",
    "    new_comps.append(','.join([m+str(n) for m,n in zip(i,wt())]))\n",
    "print('Number of new randomly generated components:',len(new_comps))"
   ]
  },
  {
   "cell_type": "markdown",
   "metadata": {},
   "source": [
    "This created 18424 new alloy combinations"
   ]
  },
  {
   "cell_type": "code",
   "execution_count": 331,
   "metadata": {},
   "outputs": [
    {
     "name": "stdout",
     "output_type": "stream",
     "text": [
      "['Mo9.54,Sb43.21,Zr47.25', 'La4.82,Mo41.05,Zn54.13', 'Co35.65,Mg28.38,Te35.97', 'Co29.38,Mn31.5,Ni39.12', 'As29.16,Co22.08,Th48.76', 'Cr76.74,Sb21.65,Zn1.62', 'Fe3.17,Mn55.08,Zn41.74', 'Mg5.34,N53.3,Se41.36', 'O45.32,Pd49.93,Ta4.75', 'B46.71,Cu1.83,Th51.47', 'C34.75,Co20.04,Mg45.2', 'B9.56,Mn70.8,Ru19.64', 'Cb32.44,Ma23.4,Si44.16', 'C34.32,N35.34,Ru30.34', 'La8.32,Se50.53,V41.15']\n"
     ]
    }
   ],
   "source": [
    "# A random sample of 15 items from the above list of new compounds\n",
    "import random\n",
    "print(random.sample(new_comps, 15))"
   ]
  },
  {
   "cell_type": "markdown",
   "metadata": {},
   "source": [
    "## Create a dataframe new compounds"
   ]
  },
  {
   "cell_type": "code",
   "execution_count": 332,
   "metadata": {},
   "outputs": [],
   "source": [
    "#Create a pandas dataframe from new component list so that it can be passed to the model for prediction\n",
    "new = pd.DataFrame({'composition':new_comps})\n",
    "expanded = new['composition'].str.split(',', expand=True)\n",
    "for column in expanded.columns:\n",
    "    m = expanded[0].str.extract(r'([a-zA-Z]+)([0-9\\.]+)')\n",
    "    m.columns = ['m'+str(column+1),'m'+str(column+1)+'%']\n",
    "    m['m'+str(column+1)+'%'] = m['m'+str(column+1)+'%'].astype('float')\n",
    "    new = pd.concat([new,m],axis='columns')"
   ]
  },
  {
   "cell_type": "code",
   "execution_count": 333,
   "metadata": {},
   "outputs": [
    {
     "data": {
      "text/html": [
       "<div>\n",
       "<style scoped>\n",
       "    .dataframe tbody tr th:only-of-type {\n",
       "        vertical-align: middle;\n",
       "    }\n",
       "\n",
       "    .dataframe tbody tr th {\n",
       "        vertical-align: top;\n",
       "    }\n",
       "\n",
       "    .dataframe thead th {\n",
       "        text-align: right;\n",
       "    }\n",
       "</style>\n",
       "<table border=\"1\" class=\"dataframe\">\n",
       "  <thead>\n",
       "    <tr style=\"text-align: right;\">\n",
       "      <th></th>\n",
       "      <th>composition</th>\n",
       "      <th>m1</th>\n",
       "      <th>m1%</th>\n",
       "      <th>m2</th>\n",
       "      <th>m2%</th>\n",
       "      <th>m3</th>\n",
       "      <th>m3%</th>\n",
       "    </tr>\n",
       "  </thead>\n",
       "  <tbody>\n",
       "    <tr>\n",
       "      <th>0</th>\n",
       "      <td>Ag13.43,Al47.79,As38.78</td>\n",
       "      <td>Ag</td>\n",
       "      <td>13.43</td>\n",
       "      <td>Ag</td>\n",
       "      <td>13.43</td>\n",
       "      <td>Ag</td>\n",
       "      <td>13.43</td>\n",
       "    </tr>\n",
       "    <tr>\n",
       "      <th>1</th>\n",
       "      <td>Ag33.54,Al54.28,Au12.18</td>\n",
       "      <td>Ag</td>\n",
       "      <td>33.54</td>\n",
       "      <td>Ag</td>\n",
       "      <td>33.54</td>\n",
       "      <td>Ag</td>\n",
       "      <td>33.54</td>\n",
       "    </tr>\n",
       "    <tr>\n",
       "      <th>2</th>\n",
       "      <td>Ag32.6,Al41.2,B26.19</td>\n",
       "      <td>Ag</td>\n",
       "      <td>32.60</td>\n",
       "      <td>Ag</td>\n",
       "      <td>32.60</td>\n",
       "      <td>Ag</td>\n",
       "      <td>32.60</td>\n",
       "    </tr>\n",
       "    <tr>\n",
       "      <th>3</th>\n",
       "      <td>Ag9.57,Al49.35,Be41.08</td>\n",
       "      <td>Ag</td>\n",
       "      <td>9.57</td>\n",
       "      <td>Ag</td>\n",
       "      <td>9.57</td>\n",
       "      <td>Ag</td>\n",
       "      <td>9.57</td>\n",
       "    </tr>\n",
       "    <tr>\n",
       "      <th>4</th>\n",
       "      <td>Ag39.96,Al38.52,Bi21.52</td>\n",
       "      <td>Ag</td>\n",
       "      <td>39.96</td>\n",
       "      <td>Ag</td>\n",
       "      <td>39.96</td>\n",
       "      <td>Ag</td>\n",
       "      <td>39.96</td>\n",
       "    </tr>\n",
       "  </tbody>\n",
       "</table>\n",
       "</div>"
      ],
      "text/plain": [
       "               composition  m1    m1%  m2    m2%  m3    m3%\n",
       "0  Ag13.43,Al47.79,As38.78  Ag  13.43  Ag  13.43  Ag  13.43\n",
       "1  Ag33.54,Al54.28,Au12.18  Ag  33.54  Ag  33.54  Ag  33.54\n",
       "2     Ag32.6,Al41.2,B26.19  Ag  32.60  Ag  32.60  Ag  32.60\n",
       "3   Ag9.57,Al49.35,Be41.08  Ag   9.57  Ag   9.57  Ag   9.57\n",
       "4  Ag39.96,Al38.52,Bi21.52  Ag  39.96  Ag  39.96  Ag  39.96"
      ]
     },
     "execution_count": 333,
     "metadata": {},
     "output_type": "execute_result"
    }
   ],
   "source": [
    "# A look at the new dataframe\n",
    "new.head()"
   ]
  },
  {
   "cell_type": "markdown",
   "metadata": {},
   "source": [
    "## data preprocessing"
   ]
  },
  {
   "cell_type": "markdown",
   "metadata": {},
   "source": [
    "After loading the dataset, the columns m1, m2,..... need to be one-hot-encoded to suit learning algorithms. This helps convert the categorical columns into numeric columns for model building. This can be done by using the 'get_dummies()' method of pandas"
   ]
  },
  {
   "cell_type": "code",
   "execution_count": 334,
   "metadata": {
    "collapsed": true
   },
   "outputs": [],
   "source": [
    "#concatenating the newly generated compounds dataframe to capture their categories\n",
    "data1 = pd.concat([data,new],sort=False)"
   ]
  },
  {
   "cell_type": "code",
   "execution_count": 335,
   "metadata": {
    "collapsed": true
   },
   "outputs": [],
   "source": [
    "for col in 'm1 m2 m3 m4 m5 m6 m7 m8 m9 m10 m11'.split(' '):\n",
    "    data1[col] = data1[col].astype('category')"
   ]
  },
  {
   "cell_type": "code",
   "execution_count": 336,
   "metadata": {
    "collapsed": true
   },
   "outputs": [],
   "source": [
    "df = pd.get_dummies(data1.drop(['composition'],axis='columns')) #creates a new dataframe df that creates new dummy columns"
   ]
  },
  {
   "cell_type": "code",
   "execution_count": 337,
   "metadata": {
    "scrolled": true
   },
   "outputs": [
    {
     "data": {
      "text/html": [
       "<div>\n",
       "<style scoped>\n",
       "    .dataframe tbody tr th:only-of-type {\n",
       "        vertical-align: middle;\n",
       "    }\n",
       "\n",
       "    .dataframe tbody tr th {\n",
       "        vertical-align: top;\n",
       "    }\n",
       "\n",
       "    .dataframe thead th {\n",
       "        text-align: right;\n",
       "    }\n",
       "</style>\n",
       "<table border=\"1\" class=\"dataframe\">\n",
       "  <thead>\n",
       "    <tr style=\"text-align: right;\">\n",
       "      <th></th>\n",
       "      <th>m1%</th>\n",
       "      <th>m2%</th>\n",
       "      <th>m3%</th>\n",
       "      <th>m4%</th>\n",
       "      <th>m5%</th>\n",
       "      <th>m6%</th>\n",
       "      <th>m7%</th>\n",
       "      <th>m8%</th>\n",
       "      <th>m9%</th>\n",
       "      <th>m10%</th>\n",
       "      <th>...</th>\n",
       "      <th>m9_V</th>\n",
       "      <th>m9_Zr</th>\n",
       "      <th>m10_C</th>\n",
       "      <th>m10_Fe</th>\n",
       "      <th>m10_O</th>\n",
       "      <th>m10_Zr</th>\n",
       "      <th>m11_B</th>\n",
       "      <th>m11_C</th>\n",
       "      <th>m11_Co</th>\n",
       "      <th>m11_Cu</th>\n",
       "    </tr>\n",
       "  </thead>\n",
       "  <tbody>\n",
       "    <tr>\n",
       "      <th>0</th>\n",
       "      <td>99.90</td>\n",
       "      <td>NaN</td>\n",
       "      <td>NaN</td>\n",
       "      <td>NaN</td>\n",
       "      <td>NaN</td>\n",
       "      <td>NaN</td>\n",
       "      <td>NaN</td>\n",
       "      <td>NaN</td>\n",
       "      <td>NaN</td>\n",
       "      <td>NaN</td>\n",
       "      <td>...</td>\n",
       "      <td>0</td>\n",
       "      <td>0</td>\n",
       "      <td>0</td>\n",
       "      <td>0</td>\n",
       "      <td>0</td>\n",
       "      <td>0</td>\n",
       "      <td>0</td>\n",
       "      <td>0</td>\n",
       "      <td>0</td>\n",
       "      <td>0</td>\n",
       "    </tr>\n",
       "    <tr>\n",
       "      <th>1</th>\n",
       "      <td>98.05</td>\n",
       "      <td>1.70</td>\n",
       "      <td>0.25</td>\n",
       "      <td>NaN</td>\n",
       "      <td>NaN</td>\n",
       "      <td>NaN</td>\n",
       "      <td>NaN</td>\n",
       "      <td>NaN</td>\n",
       "      <td>NaN</td>\n",
       "      <td>NaN</td>\n",
       "      <td>...</td>\n",
       "      <td>0</td>\n",
       "      <td>0</td>\n",
       "      <td>0</td>\n",
       "      <td>0</td>\n",
       "      <td>0</td>\n",
       "      <td>0</td>\n",
       "      <td>0</td>\n",
       "      <td>0</td>\n",
       "      <td>0</td>\n",
       "      <td>0</td>\n",
       "    </tr>\n",
       "    <tr>\n",
       "      <th>2</th>\n",
       "      <td>97.85</td>\n",
       "      <td>1.90</td>\n",
       "      <td>0.25</td>\n",
       "      <td>NaN</td>\n",
       "      <td>NaN</td>\n",
       "      <td>NaN</td>\n",
       "      <td>NaN</td>\n",
       "      <td>NaN</td>\n",
       "      <td>NaN</td>\n",
       "      <td>NaN</td>\n",
       "      <td>...</td>\n",
       "      <td>0</td>\n",
       "      <td>0</td>\n",
       "      <td>0</td>\n",
       "      <td>0</td>\n",
       "      <td>0</td>\n",
       "      <td>0</td>\n",
       "      <td>0</td>\n",
       "      <td>0</td>\n",
       "      <td>0</td>\n",
       "      <td>0</td>\n",
       "    </tr>\n",
       "    <tr>\n",
       "      <th>3</th>\n",
       "      <td>96.90</td>\n",
       "      <td>0.60</td>\n",
       "      <td>2.50</td>\n",
       "      <td>NaN</td>\n",
       "      <td>NaN</td>\n",
       "      <td>NaN</td>\n",
       "      <td>NaN</td>\n",
       "      <td>NaN</td>\n",
       "      <td>NaN</td>\n",
       "      <td>NaN</td>\n",
       "      <td>...</td>\n",
       "      <td>0</td>\n",
       "      <td>0</td>\n",
       "      <td>0</td>\n",
       "      <td>0</td>\n",
       "      <td>0</td>\n",
       "      <td>0</td>\n",
       "      <td>0</td>\n",
       "      <td>0</td>\n",
       "      <td>0</td>\n",
       "      <td>0</td>\n",
       "    </tr>\n",
       "    <tr>\n",
       "      <th>4</th>\n",
       "      <td>97.07</td>\n",
       "      <td>0.38</td>\n",
       "      <td>1.55</td>\n",
       "      <td>1.0</td>\n",
       "      <td>NaN</td>\n",
       "      <td>NaN</td>\n",
       "      <td>NaN</td>\n",
       "      <td>NaN</td>\n",
       "      <td>NaN</td>\n",
       "      <td>NaN</td>\n",
       "      <td>...</td>\n",
       "      <td>0</td>\n",
       "      <td>0</td>\n",
       "      <td>0</td>\n",
       "      <td>0</td>\n",
       "      <td>0</td>\n",
       "      <td>0</td>\n",
       "      <td>0</td>\n",
       "      <td>0</td>\n",
       "      <td>0</td>\n",
       "      <td>0</td>\n",
       "    </tr>\n",
       "  </tbody>\n",
       "</table>\n",
       "<p>5 rows × 276 columns</p>\n",
       "</div>"
      ],
      "text/plain": [
       "     m1%   m2%   m3%  m4%  m5%  m6%  m7%  m8%  m9%  m10%   ...    m9_V  m9_Zr  \\\n",
       "0  99.90   NaN   NaN  NaN  NaN  NaN  NaN  NaN  NaN   NaN   ...       0      0   \n",
       "1  98.05  1.70  0.25  NaN  NaN  NaN  NaN  NaN  NaN   NaN   ...       0      0   \n",
       "2  97.85  1.90  0.25  NaN  NaN  NaN  NaN  NaN  NaN   NaN   ...       0      0   \n",
       "3  96.90  0.60  2.50  NaN  NaN  NaN  NaN  NaN  NaN   NaN   ...       0      0   \n",
       "4  97.07  0.38  1.55  1.0  NaN  NaN  NaN  NaN  NaN   NaN   ...       0      0   \n",
       "\n",
       "   m10_C  m10_Fe  m10_O  m10_Zr  m11_B  m11_C  m11_Co  m11_Cu  \n",
       "0      0       0      0       0      0      0       0       0  \n",
       "1      0       0      0       0      0      0       0       0  \n",
       "2      0       0      0       0      0      0       0       0  \n",
       "3      0       0      0       0      0      0       0       0  \n",
       "4      0       0      0       0      0      0       0       0  \n",
       "\n",
       "[5 rows x 276 columns]"
      ]
     },
     "execution_count": 337,
     "metadata": {},
     "output_type": "execute_result"
    }
   ],
   "source": [
    "# a look at the new data\n",
    "df.head()"
   ]
  },
  {
   "cell_type": "markdown",
   "metadata": {},
   "source": [
    "data in 24 columns got spread into 276 columns after one-hot-encoding"
   ]
  },
  {
   "cell_type": "code",
   "execution_count": 338,
   "metadata": {
    "scrolled": false
   },
   "outputs": [
    {
     "name": "stdout",
     "output_type": "stream",
     "text": [
      "m1% m2% m3% m4% m5% m6% m7% m8% m9% m10% m11% TS m1_Ag m1_Al m1_As m1_Au m1_B m1_Be m1_Bi m1_C m1_Cb m1_Cc m1_Cd m1_Co m1_Cr m1_Cu m1_Fe m1_H m1_Hf m1_In m1_Ir m1_La m1_Ma m1_Mg m1_Mn m1_Mo m1_N m1_Ni m1_O m1_P m1_Pb m1_Pd m1_Pt m1_Re m1_Rh m1_Ru m1_S m1_Sb m1_Se m1_Si m1_Sn m1_Ta m1_Te m1_Th m1_Ti m1_U m1_V m1_W m1_Y m1_Zn m1_Zr m2_Ag m2_Al m2_As m2_Au m2_B m2_Be m2_Bi m2_C m2_Cb m2_Cc m2_Cd m2_Co m2_Cr m2_Cu m2_Fe m2_H m2_Hf m2_In m2_Ir m2_La m2_Ma m2_Mg m2_Mn m2_Mo m2_N m2_Ni m2_O m2_P m2_Pb m2_Pd m2_Pt m2_Re m2_Rh m2_Ru m2_S m2_Sb m2_Se m2_Si m2_Sn m2_Ta m2_Te m2_Th m2_Ti m2_U m2_V m2_W m2_Y m2_Zn m2_Zr m3_Ag m3_Al m3_As m3_Au m3_B m3_Be m3_Bi m3_C m3_Cb m3_Cc m3_Cd m3_Co m3_Cr m3_Cu m3_Fe m3_H m3_Hf m3_In m3_Ir m3_La m3_Ma m3_Mg m3_Mn m3_Mo m3_N m3_Ni m3_O m3_P m3_Pb m3_Pd m3_Pt m3_Re m3_Rh m3_Ru m3_S m3_Sb m3_Se m3_Si m3_Sn m3_Ta m3_Te m3_Th m3_Ti m3_U m3_V m3_W m3_Y m3_Zn m3_Zr m4_Ag m4_Al m4_As m4_B m4_C m4_Cb m4_Cc m4_Cd m4_Co m4_Cr m4_Cu m4_Fe m4_Mg m4_Mn m4_Mo m4_N m4_Ni m4_Pb m4_S m4_Se m4_Si m4_Sn m4_Ti m4_V m4_W m4_Zn m4_Zr m5_Al m5_Bi m5_C m5_Cb m5_Co m5_Cr m5_Cu m5_Fe m5_H m5_Mg m5_Mn m5_Mo m5_N m5_Ni m5_Si m5_Sn m5_Ti m5_V m5_W m5_Zn m5_Zr m6_Al m6_C m6_Cb m6_Co m6_Cr m6_Cu m6_Fe m6_H m6_Mn m6_Mo m6_N m6_O m6_Si m6_Sn m6_Ti m6_W m7_Al m7_B m7_C m7_Cb m7_Co m7_Cu m7_Fe m7_H m7_La m7_Mn m7_Mo m7_N m7_Ni m7_O m7_S m7_Si m7_Ta m7_Ti m7_Zr m8_Al m8_B m8_C m8_Cb m8_Cu m8_H m8_La m8_Mn m8_N m8_O m8_Si m8_Ta m8_V m8_W m8_Y m8_Zr m9_B m9_C m9_Cb m9_H m9_O m9_Si m9_Ta m9_Ti m9_V m9_Zr m10_C m10_Fe m10_O m10_Zr m11_B m11_C m11_Co m11_Cu "
     ]
    }
   ],
   "source": [
    "# A look at all the 276 new columns created\n",
    "for i in df.columns:\n",
    "    print(i,end=' ')"
   ]
  },
  {
   "cell_type": "code",
   "execution_count": 339,
   "metadata": {},
   "outputs": [
    {
     "data": {
      "text/html": [
       "<div>\n",
       "<style scoped>\n",
       "    .dataframe tbody tr th:only-of-type {\n",
       "        vertical-align: middle;\n",
       "    }\n",
       "\n",
       "    .dataframe tbody tr th {\n",
       "        vertical-align: top;\n",
       "    }\n",
       "\n",
       "    .dataframe thead th {\n",
       "        text-align: right;\n",
       "    }\n",
       "</style>\n",
       "<table border=\"1\" class=\"dataframe\">\n",
       "  <thead>\n",
       "    <tr style=\"text-align: right;\">\n",
       "      <th></th>\n",
       "      <th>m1%</th>\n",
       "      <th>m2%</th>\n",
       "      <th>m3%</th>\n",
       "      <th>m4%</th>\n",
       "      <th>m5%</th>\n",
       "      <th>m6%</th>\n",
       "      <th>m7%</th>\n",
       "      <th>m8%</th>\n",
       "      <th>m9%</th>\n",
       "      <th>m10%</th>\n",
       "      <th>...</th>\n",
       "      <th>m9_V</th>\n",
       "      <th>m9_Zr</th>\n",
       "      <th>m10_C</th>\n",
       "      <th>m10_Fe</th>\n",
       "      <th>m10_O</th>\n",
       "      <th>m10_Zr</th>\n",
       "      <th>m11_B</th>\n",
       "      <th>m11_C</th>\n",
       "      <th>m11_Co</th>\n",
       "      <th>m11_Cu</th>\n",
       "    </tr>\n",
       "  </thead>\n",
       "  <tbody>\n",
       "    <tr>\n",
       "      <th>0</th>\n",
       "      <td>99.90</td>\n",
       "      <td>0.00</td>\n",
       "      <td>0.00</td>\n",
       "      <td>0.0</td>\n",
       "      <td>0.0</td>\n",
       "      <td>0.0</td>\n",
       "      <td>0.0</td>\n",
       "      <td>0.0</td>\n",
       "      <td>0.0</td>\n",
       "      <td>0.0</td>\n",
       "      <td>...</td>\n",
       "      <td>0</td>\n",
       "      <td>0</td>\n",
       "      <td>0</td>\n",
       "      <td>0</td>\n",
       "      <td>0</td>\n",
       "      <td>0</td>\n",
       "      <td>0</td>\n",
       "      <td>0</td>\n",
       "      <td>0</td>\n",
       "      <td>0</td>\n",
       "    </tr>\n",
       "    <tr>\n",
       "      <th>1</th>\n",
       "      <td>98.05</td>\n",
       "      <td>1.70</td>\n",
       "      <td>0.25</td>\n",
       "      <td>0.0</td>\n",
       "      <td>0.0</td>\n",
       "      <td>0.0</td>\n",
       "      <td>0.0</td>\n",
       "      <td>0.0</td>\n",
       "      <td>0.0</td>\n",
       "      <td>0.0</td>\n",
       "      <td>...</td>\n",
       "      <td>0</td>\n",
       "      <td>0</td>\n",
       "      <td>0</td>\n",
       "      <td>0</td>\n",
       "      <td>0</td>\n",
       "      <td>0</td>\n",
       "      <td>0</td>\n",
       "      <td>0</td>\n",
       "      <td>0</td>\n",
       "      <td>0</td>\n",
       "    </tr>\n",
       "    <tr>\n",
       "      <th>2</th>\n",
       "      <td>97.85</td>\n",
       "      <td>1.90</td>\n",
       "      <td>0.25</td>\n",
       "      <td>0.0</td>\n",
       "      <td>0.0</td>\n",
       "      <td>0.0</td>\n",
       "      <td>0.0</td>\n",
       "      <td>0.0</td>\n",
       "      <td>0.0</td>\n",
       "      <td>0.0</td>\n",
       "      <td>...</td>\n",
       "      <td>0</td>\n",
       "      <td>0</td>\n",
       "      <td>0</td>\n",
       "      <td>0</td>\n",
       "      <td>0</td>\n",
       "      <td>0</td>\n",
       "      <td>0</td>\n",
       "      <td>0</td>\n",
       "      <td>0</td>\n",
       "      <td>0</td>\n",
       "    </tr>\n",
       "    <tr>\n",
       "      <th>3</th>\n",
       "      <td>96.90</td>\n",
       "      <td>0.60</td>\n",
       "      <td>2.50</td>\n",
       "      <td>0.0</td>\n",
       "      <td>0.0</td>\n",
       "      <td>0.0</td>\n",
       "      <td>0.0</td>\n",
       "      <td>0.0</td>\n",
       "      <td>0.0</td>\n",
       "      <td>0.0</td>\n",
       "      <td>...</td>\n",
       "      <td>0</td>\n",
       "      <td>0</td>\n",
       "      <td>0</td>\n",
       "      <td>0</td>\n",
       "      <td>0</td>\n",
       "      <td>0</td>\n",
       "      <td>0</td>\n",
       "      <td>0</td>\n",
       "      <td>0</td>\n",
       "      <td>0</td>\n",
       "    </tr>\n",
       "    <tr>\n",
       "      <th>4</th>\n",
       "      <td>97.07</td>\n",
       "      <td>0.38</td>\n",
       "      <td>1.55</td>\n",
       "      <td>1.0</td>\n",
       "      <td>0.0</td>\n",
       "      <td>0.0</td>\n",
       "      <td>0.0</td>\n",
       "      <td>0.0</td>\n",
       "      <td>0.0</td>\n",
       "      <td>0.0</td>\n",
       "      <td>...</td>\n",
       "      <td>0</td>\n",
       "      <td>0</td>\n",
       "      <td>0</td>\n",
       "      <td>0</td>\n",
       "      <td>0</td>\n",
       "      <td>0</td>\n",
       "      <td>0</td>\n",
       "      <td>0</td>\n",
       "      <td>0</td>\n",
       "      <td>0</td>\n",
       "    </tr>\n",
       "  </tbody>\n",
       "</table>\n",
       "<p>5 rows × 276 columns</p>\n",
       "</div>"
      ],
      "text/plain": [
       "     m1%   m2%   m3%  m4%  m5%  m6%  m7%  m8%  m9%  m10%   ...    m9_V  m9_Zr  \\\n",
       "0  99.90  0.00  0.00  0.0  0.0  0.0  0.0  0.0  0.0   0.0   ...       0      0   \n",
       "1  98.05  1.70  0.25  0.0  0.0  0.0  0.0  0.0  0.0   0.0   ...       0      0   \n",
       "2  97.85  1.90  0.25  0.0  0.0  0.0  0.0  0.0  0.0   0.0   ...       0      0   \n",
       "3  96.90  0.60  2.50  0.0  0.0  0.0  0.0  0.0  0.0   0.0   ...       0      0   \n",
       "4  97.07  0.38  1.55  1.0  0.0  0.0  0.0  0.0  0.0   0.0   ...       0      0   \n",
       "\n",
       "   m10_C  m10_Fe  m10_O  m10_Zr  m11_B  m11_C  m11_Co  m11_Cu  \n",
       "0      0       0      0       0      0      0       0       0  \n",
       "1      0       0      0       0      0      0       0       0  \n",
       "2      0       0      0       0      0      0       0       0  \n",
       "3      0       0      0       0      0      0       0       0  \n",
       "4      0       0      0       0      0      0       0       0  \n",
       "\n",
       "[5 rows x 276 columns]"
      ]
     },
     "execution_count": 339,
     "metadata": {},
     "output_type": "execute_result"
    }
   ],
   "source": [
    "df.fillna(0,inplace=True) #this fills all the blank cells in the weights columns with zero\n",
    "df.head()"
   ]
  },
  {
   "cell_type": "markdown",
   "metadata": {},
   "source": [
    "After capturing categories, separating the newly generated compounds from the original alloy dataframe"
   ]
  },
  {
   "cell_type": "code",
   "execution_count": 340,
   "metadata": {},
   "outputs": [],
   "source": [
    "new_dum = df[df['TS'] == 0]\n",
    "df = df[df['TS'] != 0]\n",
    "new_dum.drop(['TS'],axis='columns',inplace=True)"
   ]
  },
  {
   "cell_type": "markdown",
   "metadata": {},
   "source": [
    "## Defining the target variable and splitting data into train and test sets\n",
    "\n",
    "Supervised machine learning models require seggregation between the predictor variables and target variable. The original datafrem df's predictor variables are stored in the dataframe X, while the target is stored in y"
   ]
  },
  {
   "cell_type": "code",
   "execution_count": 341,
   "metadata": {
    "collapsed": true
   },
   "outputs": [],
   "source": [
    "X = df.drop(['TS'],axis='columns')\n",
    "y = df['TS']"
   ]
  },
  {
   "cell_type": "markdown",
   "metadata": {},
   "source": [
    "Splitting the data into train and test sets helps check the model performance on unseen data. The code in the below cell splits the predictors and target dataframes into 'train predictors', 'train targets', 'test predictors', and 'test targets'."
   ]
  },
  {
   "cell_type": "code",
   "execution_count": 342,
   "metadata": {
    "collapsed": true
   },
   "outputs": [],
   "source": [
    "X_train,X_test,y_train,y_test = train_test_split(X,y,random_state=0)"
   ]
  },
  {
   "cell_type": "markdown",
   "metadata": {},
   "source": [
    "# Building the model\n",
    "## Random Forest for Regression"
   ]
  },
  {
   "cell_type": "markdown",
   "metadata": {},
   "source": [
    "Now that the train and test datasets are ready, below cell creates a Random Forest model instance using RandomForestRegressor class from scikit learn"
   ]
  },
  {
   "cell_type": "code",
   "execution_count": 343,
   "metadata": {
    "collapsed": true
   },
   "outputs": [],
   "source": [
    "#This code creates a model instance with all the hyperparameters of the random forest model set\n",
    "rf = RandomForestRegressor(bootstrap=True, max_depth=None,\n",
    "           max_features='auto', max_leaf_nodes=None,\n",
    "           min_impurity_decrease=9, min_impurity_split=None,\n",
    "           min_samples_leaf=1, min_samples_split=2,\n",
    "           min_weight_fraction_leaf=0.0, n_estimators=10, n_jobs=1,\n",
    "           oob_score=False, random_state=0, verbose=0, warm_start=False)"
   ]
  },
  {
   "cell_type": "markdown",
   "metadata": {},
   "source": [
    "## Fitting the model"
   ]
  },
  {
   "cell_type": "markdown",
   "metadata": {},
   "source": [
    "Now the random forest algorithm is fit on the train predictors and train target to learn the model. The learnt model is then used to predict the target variable (Tensile Strength) using train predictors and error is noted. \n",
    "\n",
    "Later, the same model is used to predict the test target variable using the test predictors. The last step gives us the metric to evaluate the model on heldout data."
   ]
  },
  {
   "cell_type": "code",
   "execution_count": 344,
   "metadata": {},
   "outputs": [
    {
     "data": {
      "text/plain": [
       "RandomForestRegressor(bootstrap=True, criterion='mse', max_depth=None,\n",
       "           max_features='auto', max_leaf_nodes=None,\n",
       "           min_impurity_decrease=9, min_impurity_split=None,\n",
       "           min_samples_leaf=1, min_samples_split=2,\n",
       "           min_weight_fraction_leaf=0.0, n_estimators=10, n_jobs=1,\n",
       "           oob_score=False, random_state=0, verbose=0, warm_start=False)"
      ]
     },
     "execution_count": 344,
     "metadata": {},
     "output_type": "execute_result"
    }
   ],
   "source": [
    "rf.fit(X_train,y_train)"
   ]
  },
  {
   "cell_type": "markdown",
   "metadata": {},
   "source": [
    "## Predicting train target using the model to evaluate how the model performs on seen data"
   ]
  },
  {
   "cell_type": "code",
   "execution_count": 345,
   "metadata": {},
   "outputs": [
    {
     "name": "stdout",
     "output_type": "stream",
     "text": [
      "RF train error:  14.243200114645566\n"
     ]
    }
   ],
   "source": [
    "rf_train_preds = rf.predict(X_train)\n",
    "print('RF train error: ',mae(y_train,rf_train_preds))"
   ]
  },
  {
   "cell_type": "markdown",
   "metadata": {},
   "source": [
    "The error on train set is 14.3\n",
    "\n",
    "## Checking model performance on unseen data (the test set)"
   ]
  },
  {
   "cell_type": "code",
   "execution_count": 346,
   "metadata": {},
   "outputs": [
    {
     "name": "stdout",
     "output_type": "stream",
     "text": [
      "RF test error :  19.84428148210064\n"
     ]
    }
   ],
   "source": [
    "rf_test_preds = rf.predict(X_test)\n",
    "print('RF test error : ',mae(y_test,rf_test_preds))"
   ]
  },
  {
   "cell_type": "markdown",
   "metadata": {},
   "source": [
    "The error on unseen data is 19.87"
   ]
  },
  {
   "cell_type": "markdown",
   "metadata": {},
   "source": [
    "# Predicting tensile strengths of new compounds\n",
    "Passing the newly created compounds data to the model to predict their tensile strengths"
   ]
  },
  {
   "cell_type": "code",
   "execution_count": 350,
   "metadata": {},
   "outputs": [],
   "source": [
    "predictd_TS = rf.predict(new_dum)"
   ]
  },
  {
   "cell_type": "code",
   "execution_count": 351,
   "metadata": {
    "collapsed": true
   },
   "outputs": [],
   "source": [
    "#adding the predicted tensile strengths as a column to the new compounds dataframe\n",
    "new['Predicted_TS'] = predictd_TS.round(2)"
   ]
  },
  {
   "cell_type": "code",
   "execution_count": 355,
   "metadata": {},
   "outputs": [
    {
     "data": {
      "text/html": [
       "<div>\n",
       "<style scoped>\n",
       "    .dataframe tbody tr th:only-of-type {\n",
       "        vertical-align: middle;\n",
       "    }\n",
       "\n",
       "    .dataframe tbody tr th {\n",
       "        vertical-align: top;\n",
       "    }\n",
       "\n",
       "    .dataframe thead th {\n",
       "        text-align: right;\n",
       "    }\n",
       "</style>\n",
       "<table border=\"1\" class=\"dataframe\">\n",
       "  <thead>\n",
       "    <tr style=\"text-align: right;\">\n",
       "      <th></th>\n",
       "      <th>composition</th>\n",
       "      <th>m1</th>\n",
       "      <th>m1%</th>\n",
       "      <th>m2</th>\n",
       "      <th>m2%</th>\n",
       "      <th>m3</th>\n",
       "      <th>m3%</th>\n",
       "      <th>Predicted_TS</th>\n",
       "    </tr>\n",
       "  </thead>\n",
       "  <tbody>\n",
       "    <tr>\n",
       "      <th>0</th>\n",
       "      <td>Ag13.43,Al47.79,As38.78</td>\n",
       "      <td>Ag</td>\n",
       "      <td>13.43</td>\n",
       "      <td>Ag</td>\n",
       "      <td>13.43</td>\n",
       "      <td>Ag</td>\n",
       "      <td>13.43</td>\n",
       "      <td>50.04</td>\n",
       "    </tr>\n",
       "    <tr>\n",
       "      <th>1</th>\n",
       "      <td>Ag33.54,Al54.28,Au12.18</td>\n",
       "      <td>Ag</td>\n",
       "      <td>33.54</td>\n",
       "      <td>Ag</td>\n",
       "      <td>33.54</td>\n",
       "      <td>Ag</td>\n",
       "      <td>33.54</td>\n",
       "      <td>59.76</td>\n",
       "    </tr>\n",
       "    <tr>\n",
       "      <th>2</th>\n",
       "      <td>Ag32.6,Al41.2,B26.19</td>\n",
       "      <td>Ag</td>\n",
       "      <td>32.60</td>\n",
       "      <td>Ag</td>\n",
       "      <td>32.60</td>\n",
       "      <td>Ag</td>\n",
       "      <td>32.60</td>\n",
       "      <td>59.76</td>\n",
       "    </tr>\n",
       "    <tr>\n",
       "      <th>3</th>\n",
       "      <td>Ag9.57,Al49.35,Be41.08</td>\n",
       "      <td>Ag</td>\n",
       "      <td>9.57</td>\n",
       "      <td>Ag</td>\n",
       "      <td>9.57</td>\n",
       "      <td>Ag</td>\n",
       "      <td>9.57</td>\n",
       "      <td>50.04</td>\n",
       "    </tr>\n",
       "    <tr>\n",
       "      <th>4</th>\n",
       "      <td>Ag39.96,Al38.52,Bi21.52</td>\n",
       "      <td>Ag</td>\n",
       "      <td>39.96</td>\n",
       "      <td>Ag</td>\n",
       "      <td>39.96</td>\n",
       "      <td>Ag</td>\n",
       "      <td>39.96</td>\n",
       "      <td>59.76</td>\n",
       "    </tr>\n",
       "  </tbody>\n",
       "</table>\n",
       "</div>"
      ],
      "text/plain": [
       "               composition  m1    m1%  m2    m2%  m3    m3%  Predicted_TS\n",
       "0  Ag13.43,Al47.79,As38.78  Ag  13.43  Ag  13.43  Ag  13.43         50.04\n",
       "1  Ag33.54,Al54.28,Au12.18  Ag  33.54  Ag  33.54  Ag  33.54         59.76\n",
       "2     Ag32.6,Al41.2,B26.19  Ag  32.60  Ag  32.60  Ag  32.60         59.76\n",
       "3   Ag9.57,Al49.35,Be41.08  Ag   9.57  Ag   9.57  Ag   9.57         50.04\n",
       "4  Ag39.96,Al38.52,Bi21.52  Ag  39.96  Ag  39.96  Ag  39.96         59.76"
      ]
     },
     "execution_count": 355,
     "metadata": {},
     "output_type": "execute_result"
    }
   ],
   "source": [
    "# A look at the new final dataframe\n",
    "new.head()"
   ]
  },
  {
   "cell_type": "markdown",
   "metadata": {},
   "source": [
    "## Exporting the new compounds dataframe as a csv document to the local drive"
   ]
  },
  {
   "cell_type": "code",
   "execution_count": 357,
   "metadata": {
    "collapsed": true
   },
   "outputs": [],
   "source": [
    "new.to_csv(r'C:\\Users\\hchintada\\Downloads\\TS_Project\\New_Compound_Predictions.csv',index=False)"
   ]
  }
 ],
 "metadata": {
  "kernelspec": {
   "display_name": "Python 3",
   "language": "python",
   "name": "python3"
  },
  "language_info": {
   "codemirror_mode": {
    "name": "ipython",
    "version": 3
   },
   "file_extension": ".py",
   "mimetype": "text/x-python",
   "name": "python",
   "nbconvert_exporter": "python",
   "pygments_lexer": "ipython3",
   "version": "3.6.1"
  }
 },
 "nbformat": 4,
 "nbformat_minor": 2
}
