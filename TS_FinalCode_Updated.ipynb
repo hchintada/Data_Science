{
 "cells": [
  {
   "cell_type": "markdown",
   "metadata": {},
   "source": [
    "# Predicting Tensile Strengths of Alloys Using Machine Learning"
   ]
  },
  {
   "cell_type": "markdown",
   "metadata": {},
   "source": [
    "This notebook uses over 350 alloys to model tensile strengths based on alloy compositions, and uses the model to predict tensile strengths of new compounds. It creates features based on the composition of each entry, trains a random forest model, and then uses the model to predict new compound tensile strengths.\n",
    "\n",
    "Alloy data taken from [here](https://www.nickelinstitute.org/~/media/files/technicalliterature/propertiesofsomemetalsandalloys_297_.pdf)"
   ]
  },
  {
   "cell_type": "code",
   "execution_count": 1,
   "metadata": {
    "collapsed": true
   },
   "outputs": [],
   "source": [
    "#Before loading the dataset, we import the required libraries and packages\n",
    "\n",
    "import pandas as pd         #pandas provides easy-to-use data structures and data analysis tools\n",
    "import numpy as np          #numpy provides numerical tools\n",
    "from itertools import combinations,permutations        #helps create new compounds\n",
    "from sklearn.model_selection import train_test_split   #used to create a test set for checking accuracy\n",
    "from sklearn.ensemble import RandomForestRegressor     #the randomforest used for training the model\n",
    "from sklearn.metrics import mean_absolute_error as mae #This is the metric we use to check error/accuracy"
   ]
  },
  {
   "cell_type": "markdown",
   "metadata": {},
   "source": [
    "## Loading the dataset using pandas from the local folder"
   ]
  },
  {
   "cell_type": "code",
   "execution_count": 2,
   "metadata": {
    "collapsed": true
   },
   "outputs": [],
   "source": [
    "file_location = r'C:\\Users\\hchintada\\Downloads\\TS_Project\\finaldata_alloy_comp.csv'\n",
    "#change file_location in the above line accordingly.\n",
    "# ex: file_location = r'C:\\Users\\Sushma\\TSproject\\finaldata_alloy_comp.csv'\n",
    "data = pd.read_csv(file_location) #loads the data into a pandas dataframe"
   ]
  },
  {
   "cell_type": "markdown",
   "metadata": {},
   "source": [
    "Having a brief look at the data that is loaded. head() method outputs the top 5 rows of the dataset"
   ]
  },
  {
   "cell_type": "code",
   "execution_count": 3,
   "metadata": {
    "scrolled": false
   },
   "outputs": [
    {
     "data": {
      "text/html": [
       "<div>\n",
       "<style scoped>\n",
       "    .dataframe tbody tr th:only-of-type {\n",
       "        vertical-align: middle;\n",
       "    }\n",
       "\n",
       "    .dataframe tbody tr th {\n",
       "        vertical-align: top;\n",
       "    }\n",
       "\n",
       "    .dataframe thead th {\n",
       "        text-align: right;\n",
       "    }\n",
       "</style>\n",
       "<table border=\"1\" class=\"dataframe\">\n",
       "  <thead>\n",
       "    <tr style=\"text-align: right;\">\n",
       "      <th></th>\n",
       "      <th>composition</th>\n",
       "      <th>m1</th>\n",
       "      <th>m1%</th>\n",
       "      <th>m2</th>\n",
       "      <th>m2%</th>\n",
       "      <th>m3</th>\n",
       "      <th>m3%</th>\n",
       "      <th>m4</th>\n",
       "      <th>m4%</th>\n",
       "      <th>m5</th>\n",
       "      <th>...</th>\n",
       "      <th>m7%</th>\n",
       "      <th>m8</th>\n",
       "      <th>m8%</th>\n",
       "      <th>m9</th>\n",
       "      <th>m9%</th>\n",
       "      <th>m10</th>\n",
       "      <th>m10%</th>\n",
       "      <th>m11</th>\n",
       "      <th>m11%</th>\n",
       "      <th>TS</th>\n",
       "    </tr>\n",
       "  </thead>\n",
       "  <tbody>\n",
       "    <tr>\n",
       "      <th>0</th>\n",
       "      <td>Cu99.90</td>\n",
       "      <td>Cu</td>\n",
       "      <td>99.90</td>\n",
       "      <td>NaN</td>\n",
       "      <td>NaN</td>\n",
       "      <td>NaN</td>\n",
       "      <td>NaN</td>\n",
       "      <td>NaN</td>\n",
       "      <td>NaN</td>\n",
       "      <td>NaN</td>\n",
       "      <td>...</td>\n",
       "      <td>NaN</td>\n",
       "      <td>NaN</td>\n",
       "      <td>NaN</td>\n",
       "      <td>NaN</td>\n",
       "      <td>NaN</td>\n",
       "      <td>NaN</td>\n",
       "      <td>NaN</td>\n",
       "      <td>NaN</td>\n",
       "      <td>NaN</td>\n",
       "      <td>32.0</td>\n",
       "    </tr>\n",
       "    <tr>\n",
       "      <th>1</th>\n",
       "      <td>Cu98.05,Be1.7,Co0.25</td>\n",
       "      <td>Cu</td>\n",
       "      <td>98.05</td>\n",
       "      <td>Be</td>\n",
       "      <td>1.70</td>\n",
       "      <td>Co</td>\n",
       "      <td>0.25</td>\n",
       "      <td>NaN</td>\n",
       "      <td>NaN</td>\n",
       "      <td>NaN</td>\n",
       "      <td>...</td>\n",
       "      <td>NaN</td>\n",
       "      <td>NaN</td>\n",
       "      <td>NaN</td>\n",
       "      <td>NaN</td>\n",
       "      <td>NaN</td>\n",
       "      <td>NaN</td>\n",
       "      <td>NaN</td>\n",
       "      <td>NaN</td>\n",
       "      <td>NaN</td>\n",
       "      <td>165.0</td>\n",
       "    </tr>\n",
       "    <tr>\n",
       "      <th>2</th>\n",
       "      <td>Cu97.85,Be1.9,Co0.25</td>\n",
       "      <td>Cu</td>\n",
       "      <td>97.85</td>\n",
       "      <td>Be</td>\n",
       "      <td>1.90</td>\n",
       "      <td>Co</td>\n",
       "      <td>0.25</td>\n",
       "      <td>NaN</td>\n",
       "      <td>NaN</td>\n",
       "      <td>NaN</td>\n",
       "      <td>...</td>\n",
       "      <td>NaN</td>\n",
       "      <td>NaN</td>\n",
       "      <td>NaN</td>\n",
       "      <td>NaN</td>\n",
       "      <td>NaN</td>\n",
       "      <td>NaN</td>\n",
       "      <td>NaN</td>\n",
       "      <td>NaN</td>\n",
       "      <td>NaN</td>\n",
       "      <td>175.0</td>\n",
       "    </tr>\n",
       "    <tr>\n",
       "      <th>3</th>\n",
       "      <td>Cu96.9,Be0.6,Co2.5</td>\n",
       "      <td>Cu</td>\n",
       "      <td>96.90</td>\n",
       "      <td>Be</td>\n",
       "      <td>0.60</td>\n",
       "      <td>Co</td>\n",
       "      <td>2.50</td>\n",
       "      <td>NaN</td>\n",
       "      <td>NaN</td>\n",
       "      <td>NaN</td>\n",
       "      <td>...</td>\n",
       "      <td>NaN</td>\n",
       "      <td>NaN</td>\n",
       "      <td>NaN</td>\n",
       "      <td>NaN</td>\n",
       "      <td>NaN</td>\n",
       "      <td>NaN</td>\n",
       "      <td>NaN</td>\n",
       "      <td>NaN</td>\n",
       "      <td>NaN</td>\n",
       "      <td>110.0</td>\n",
       "    </tr>\n",
       "    <tr>\n",
       "      <th>4</th>\n",
       "      <td>Cu97.07,Be0.38,Co1.55,Ag1</td>\n",
       "      <td>Cu</td>\n",
       "      <td>97.07</td>\n",
       "      <td>Be</td>\n",
       "      <td>0.38</td>\n",
       "      <td>Co</td>\n",
       "      <td>1.55</td>\n",
       "      <td>Ag</td>\n",
       "      <td>1.0</td>\n",
       "      <td>NaN</td>\n",
       "      <td>...</td>\n",
       "      <td>NaN</td>\n",
       "      <td>NaN</td>\n",
       "      <td>NaN</td>\n",
       "      <td>NaN</td>\n",
       "      <td>NaN</td>\n",
       "      <td>NaN</td>\n",
       "      <td>NaN</td>\n",
       "      <td>NaN</td>\n",
       "      <td>NaN</td>\n",
       "      <td>110.0</td>\n",
       "    </tr>\n",
       "  </tbody>\n",
       "</table>\n",
       "<p>5 rows × 24 columns</p>\n",
       "</div>"
      ],
      "text/plain": [
       "                 composition  m1    m1%   m2   m2%   m3   m3%   m4  m4%   m5  \\\n",
       "0                    Cu99.90  Cu  99.90  NaN   NaN  NaN   NaN  NaN  NaN  NaN   \n",
       "1       Cu98.05,Be1.7,Co0.25  Cu  98.05   Be  1.70   Co  0.25  NaN  NaN  NaN   \n",
       "2       Cu97.85,Be1.9,Co0.25  Cu  97.85   Be  1.90   Co  0.25  NaN  NaN  NaN   \n",
       "3         Cu96.9,Be0.6,Co2.5  Cu  96.90   Be  0.60   Co  2.50  NaN  NaN  NaN   \n",
       "4  Cu97.07,Be0.38,Co1.55,Ag1  Cu  97.07   Be  0.38   Co  1.55   Ag  1.0  NaN   \n",
       "\n",
       "   ...    m7%   m8  m8%   m9  m9%  m10  m10%  m11  m11%     TS  \n",
       "0  ...    NaN  NaN  NaN  NaN  NaN  NaN   NaN  NaN   NaN   32.0  \n",
       "1  ...    NaN  NaN  NaN  NaN  NaN  NaN   NaN  NaN   NaN  165.0  \n",
       "2  ...    NaN  NaN  NaN  NaN  NaN  NaN   NaN  NaN   NaN  175.0  \n",
       "3  ...    NaN  NaN  NaN  NaN  NaN  NaN   NaN  NaN   NaN  110.0  \n",
       "4  ...    NaN  NaN  NaN  NaN  NaN  NaN   NaN  NaN   NaN  110.0  \n",
       "\n",
       "[5 rows x 24 columns]"
      ]
     },
     "execution_count": 3,
     "metadata": {},
     "output_type": "execute_result"
    }
   ],
   "source": [
    "data.head()"
   ]
  },
  {
   "cell_type": "markdown",
   "metadata": {},
   "source": [
    "# Creating new compounds\n",
    "Creating over 18,000 random combinations of three metals with random weights"
   ]
  },
  {
   "cell_type": "markdown",
   "metadata": {},
   "source": [
    "## Create random weights\n",
    "Initializing random weights for components that sum up to 100"
   ]
  },
  {
   "cell_type": "code",
   "execution_count": 4,
   "metadata": {
    "collapsed": true
   },
   "outputs": [],
   "source": [
    "def wt():\n",
    "    weights = np.random.random(3)\n",
    "    weights /= weights.sum();weights*=100;weights = weights.round(2)\n",
    "    return weights"
   ]
  },
  {
   "cell_type": "markdown",
   "metadata": {},
   "source": [
    "## Create random metal-weight combinations of size 3"
   ]
  },
  {
   "cell_type": "code",
   "execution_count": 5,
   "metadata": {},
   "outputs": [
    {
     "name": "stdout",
     "output_type": "stream",
     "text": [
      "Number of new randomly generated components: 18424\n"
     ]
    }
   ],
   "source": [
    "metals = []\n",
    "for column in 'm1 m2 m3 m4 m5 m6 m7 m8 m9 m10 m11'.split(' '):\n",
    "    metals.extend(data[column].dropna().drop_duplicates())\n",
    "    metals = list(set(metals))\n",
    "metals = np.asarray(metals)\n",
    "metals[metals!='nan']\n",
    "metals.sort()\n",
    "\n",
    "new_comps = []\n",
    "for i in combinations(metals,3):\n",
    "    new_comps.append(','.join([m+str(n) for m,n in zip(i,wt())]))\n",
    "print('Number of new randomly generated components:',len(new_comps))"
   ]
  },
  {
   "cell_type": "markdown",
   "metadata": {},
   "source": [
    "This created 18424 new alloy combinations"
   ]
  },
  {
   "cell_type": "code",
   "execution_count": 6,
   "metadata": {},
   "outputs": [
    {
     "name": "stdout",
     "output_type": "stream",
     "text": [
      "['Cr15.39,Rh41.65,U42.95', 'S47.72,Th24.9,Y27.38', 'Au33.86,B40.43,Re25.71', 'Be30.86,Cb53.35,Ru15.8', 'As45.67,Ma17.76,Se36.57', 'Fe71.75,Mn22.07,Rh6.18', 'Be23.77,Mg40.25,Sn35.98', 'H38.64,Ma31.65,Si29.71', 'Ir46.8,Mo35.41,Zr17.79', 'C26.07,Cb63.71,Mo10.22', 'Fe54.86,N14.8,Ni30.34', 'Ir11.43,Mg6.33,Si82.24', 'Co27.9,Pd45.05,S27.05', 'P11.4,Rh32.81,U55.79', 'As45.92,Bi34.28,Rh19.8']\n"
     ]
    }
   ],
   "source": [
    "# A random sample of 15 items from the above list of new compounds\n",
    "import random\n",
    "print(random.sample(new_comps, 15))"
   ]
  },
  {
   "cell_type": "markdown",
   "metadata": {},
   "source": [
    "## Create a dataframe new compounds"
   ]
  },
  {
   "cell_type": "code",
   "execution_count": 7,
   "metadata": {
    "collapsed": true
   },
   "outputs": [],
   "source": [
    "#Create a pandas dataframe from new component list so that it can be passed to the model for prediction\n",
    "new = pd.DataFrame({'composition':new_comps})\n",
    "expanded = new['composition'].str.split(',', expand=True)\n",
    "for column in expanded.columns:\n",
    "    m = expanded[column].str.extract(r'([a-zA-Z]+)([0-9\\.]+)')\n",
    "    m.columns = ['m'+str(column+1),'m'+str(column+1)+'%']\n",
    "    m['m'+str(column+1)+'%'] = m['m'+str(column+1)+'%'].astype('float')\n",
    "    new = pd.concat([new,m],axis='columns')"
   ]
  },
  {
   "cell_type": "code",
   "execution_count": 8,
   "metadata": {},
   "outputs": [
    {
     "data": {
      "text/html": [
       "<div>\n",
       "<style scoped>\n",
       "    .dataframe tbody tr th:only-of-type {\n",
       "        vertical-align: middle;\n",
       "    }\n",
       "\n",
       "    .dataframe tbody tr th {\n",
       "        vertical-align: top;\n",
       "    }\n",
       "\n",
       "    .dataframe thead th {\n",
       "        text-align: right;\n",
       "    }\n",
       "</style>\n",
       "<table border=\"1\" class=\"dataframe\">\n",
       "  <thead>\n",
       "    <tr style=\"text-align: right;\">\n",
       "      <th></th>\n",
       "      <th>composition</th>\n",
       "      <th>m1</th>\n",
       "      <th>m1%</th>\n",
       "      <th>m2</th>\n",
       "      <th>m2%</th>\n",
       "      <th>m3</th>\n",
       "      <th>m3%</th>\n",
       "    </tr>\n",
       "  </thead>\n",
       "  <tbody>\n",
       "    <tr>\n",
       "      <th>0</th>\n",
       "      <td>Ag14.3,Al34.5,As51.2</td>\n",
       "      <td>Ag</td>\n",
       "      <td>14.30</td>\n",
       "      <td>Al</td>\n",
       "      <td>34.50</td>\n",
       "      <td>As</td>\n",
       "      <td>51.20</td>\n",
       "    </tr>\n",
       "    <tr>\n",
       "      <th>1</th>\n",
       "      <td>Ag35.28,Al6.95,Au57.77</td>\n",
       "      <td>Ag</td>\n",
       "      <td>35.28</td>\n",
       "      <td>Al</td>\n",
       "      <td>6.95</td>\n",
       "      <td>Au</td>\n",
       "      <td>57.77</td>\n",
       "    </tr>\n",
       "    <tr>\n",
       "      <th>2</th>\n",
       "      <td>Ag32.11,Al25.09,B42.8</td>\n",
       "      <td>Ag</td>\n",
       "      <td>32.11</td>\n",
       "      <td>Al</td>\n",
       "      <td>25.09</td>\n",
       "      <td>B</td>\n",
       "      <td>42.80</td>\n",
       "    </tr>\n",
       "    <tr>\n",
       "      <th>3</th>\n",
       "      <td>Ag71.65,Al19.84,Be8.51</td>\n",
       "      <td>Ag</td>\n",
       "      <td>71.65</td>\n",
       "      <td>Al</td>\n",
       "      <td>19.84</td>\n",
       "      <td>Be</td>\n",
       "      <td>8.51</td>\n",
       "    </tr>\n",
       "    <tr>\n",
       "      <th>4</th>\n",
       "      <td>Ag61.16,Al18.06,Bi20.78</td>\n",
       "      <td>Ag</td>\n",
       "      <td>61.16</td>\n",
       "      <td>Al</td>\n",
       "      <td>18.06</td>\n",
       "      <td>Bi</td>\n",
       "      <td>20.78</td>\n",
       "    </tr>\n",
       "  </tbody>\n",
       "</table>\n",
       "</div>"
      ],
      "text/plain": [
       "               composition  m1    m1%  m2    m2%  m3    m3%\n",
       "0     Ag14.3,Al34.5,As51.2  Ag  14.30  Al  34.50  As  51.20\n",
       "1   Ag35.28,Al6.95,Au57.77  Ag  35.28  Al   6.95  Au  57.77\n",
       "2    Ag32.11,Al25.09,B42.8  Ag  32.11  Al  25.09   B  42.80\n",
       "3   Ag71.65,Al19.84,Be8.51  Ag  71.65  Al  19.84  Be   8.51\n",
       "4  Ag61.16,Al18.06,Bi20.78  Ag  61.16  Al  18.06  Bi  20.78"
      ]
     },
     "execution_count": 8,
     "metadata": {},
     "output_type": "execute_result"
    }
   ],
   "source": [
    "# A look at the new dataframe\n",
    "new.head()"
   ]
  },
  {
   "cell_type": "markdown",
   "metadata": {},
   "source": [
    "## data preprocessing"
   ]
  },
  {
   "cell_type": "markdown",
   "metadata": {},
   "source": [
    "After loading the dataset, the columns m1, m2,..... need to be one-hot-encoded to suit learning algorithms. This helps convert the categorical columns into numeric columns for model building. This can be done by using the 'get_dummies()' method of pandas"
   ]
  },
  {
   "cell_type": "code",
   "execution_count": 9,
   "metadata": {
    "collapsed": true
   },
   "outputs": [],
   "source": [
    "#concatenating the newly generated compounds dataframe to capture their categories\n",
    "data1 = pd.concat([data,new],sort=False)"
   ]
  },
  {
   "cell_type": "code",
   "execution_count": 10,
   "metadata": {
    "collapsed": true
   },
   "outputs": [],
   "source": [
    "for col in 'm1 m2 m3 m4 m5 m6 m7 m8 m9 m10 m11'.split(' '):\n",
    "    data1[col] = data1[col].astype('category')"
   ]
  },
  {
   "cell_type": "code",
   "execution_count": 11,
   "metadata": {
    "collapsed": true
   },
   "outputs": [],
   "source": [
    "df = pd.get_dummies(data1.drop(['composition'],axis='columns')) #creates a new dataframe df that creates new dummy columns"
   ]
  },
  {
   "cell_type": "code",
   "execution_count": 12,
   "metadata": {
    "scrolled": true
   },
   "outputs": [
    {
     "data": {
      "text/html": [
       "<div>\n",
       "<style scoped>\n",
       "    .dataframe tbody tr th:only-of-type {\n",
       "        vertical-align: middle;\n",
       "    }\n",
       "\n",
       "    .dataframe tbody tr th {\n",
       "        vertical-align: top;\n",
       "    }\n",
       "\n",
       "    .dataframe thead th {\n",
       "        text-align: right;\n",
       "    }\n",
       "</style>\n",
       "<table border=\"1\" class=\"dataframe\">\n",
       "  <thead>\n",
       "    <tr style=\"text-align: right;\">\n",
       "      <th></th>\n",
       "      <th>m1%</th>\n",
       "      <th>m2%</th>\n",
       "      <th>m3%</th>\n",
       "      <th>m4%</th>\n",
       "      <th>m5%</th>\n",
       "      <th>m6%</th>\n",
       "      <th>m7%</th>\n",
       "      <th>m8%</th>\n",
       "      <th>m9%</th>\n",
       "      <th>m10%</th>\n",
       "      <th>...</th>\n",
       "      <th>m9_V</th>\n",
       "      <th>m9_Zr</th>\n",
       "      <th>m10_C</th>\n",
       "      <th>m10_Fe</th>\n",
       "      <th>m10_O</th>\n",
       "      <th>m10_Zr</th>\n",
       "      <th>m11_B</th>\n",
       "      <th>m11_C</th>\n",
       "      <th>m11_Co</th>\n",
       "      <th>m11_Cu</th>\n",
       "    </tr>\n",
       "  </thead>\n",
       "  <tbody>\n",
       "    <tr>\n",
       "      <th>0</th>\n",
       "      <td>99.90</td>\n",
       "      <td>NaN</td>\n",
       "      <td>NaN</td>\n",
       "      <td>NaN</td>\n",
       "      <td>NaN</td>\n",
       "      <td>NaN</td>\n",
       "      <td>NaN</td>\n",
       "      <td>NaN</td>\n",
       "      <td>NaN</td>\n",
       "      <td>NaN</td>\n",
       "      <td>...</td>\n",
       "      <td>0</td>\n",
       "      <td>0</td>\n",
       "      <td>0</td>\n",
       "      <td>0</td>\n",
       "      <td>0</td>\n",
       "      <td>0</td>\n",
       "      <td>0</td>\n",
       "      <td>0</td>\n",
       "      <td>0</td>\n",
       "      <td>0</td>\n",
       "    </tr>\n",
       "    <tr>\n",
       "      <th>1</th>\n",
       "      <td>98.05</td>\n",
       "      <td>1.70</td>\n",
       "      <td>0.25</td>\n",
       "      <td>NaN</td>\n",
       "      <td>NaN</td>\n",
       "      <td>NaN</td>\n",
       "      <td>NaN</td>\n",
       "      <td>NaN</td>\n",
       "      <td>NaN</td>\n",
       "      <td>NaN</td>\n",
       "      <td>...</td>\n",
       "      <td>0</td>\n",
       "      <td>0</td>\n",
       "      <td>0</td>\n",
       "      <td>0</td>\n",
       "      <td>0</td>\n",
       "      <td>0</td>\n",
       "      <td>0</td>\n",
       "      <td>0</td>\n",
       "      <td>0</td>\n",
       "      <td>0</td>\n",
       "    </tr>\n",
       "    <tr>\n",
       "      <th>2</th>\n",
       "      <td>97.85</td>\n",
       "      <td>1.90</td>\n",
       "      <td>0.25</td>\n",
       "      <td>NaN</td>\n",
       "      <td>NaN</td>\n",
       "      <td>NaN</td>\n",
       "      <td>NaN</td>\n",
       "      <td>NaN</td>\n",
       "      <td>NaN</td>\n",
       "      <td>NaN</td>\n",
       "      <td>...</td>\n",
       "      <td>0</td>\n",
       "      <td>0</td>\n",
       "      <td>0</td>\n",
       "      <td>0</td>\n",
       "      <td>0</td>\n",
       "      <td>0</td>\n",
       "      <td>0</td>\n",
       "      <td>0</td>\n",
       "      <td>0</td>\n",
       "      <td>0</td>\n",
       "    </tr>\n",
       "    <tr>\n",
       "      <th>3</th>\n",
       "      <td>96.90</td>\n",
       "      <td>0.60</td>\n",
       "      <td>2.50</td>\n",
       "      <td>NaN</td>\n",
       "      <td>NaN</td>\n",
       "      <td>NaN</td>\n",
       "      <td>NaN</td>\n",
       "      <td>NaN</td>\n",
       "      <td>NaN</td>\n",
       "      <td>NaN</td>\n",
       "      <td>...</td>\n",
       "      <td>0</td>\n",
       "      <td>0</td>\n",
       "      <td>0</td>\n",
       "      <td>0</td>\n",
       "      <td>0</td>\n",
       "      <td>0</td>\n",
       "      <td>0</td>\n",
       "      <td>0</td>\n",
       "      <td>0</td>\n",
       "      <td>0</td>\n",
       "    </tr>\n",
       "    <tr>\n",
       "      <th>4</th>\n",
       "      <td>97.07</td>\n",
       "      <td>0.38</td>\n",
       "      <td>1.55</td>\n",
       "      <td>1.0</td>\n",
       "      <td>NaN</td>\n",
       "      <td>NaN</td>\n",
       "      <td>NaN</td>\n",
       "      <td>NaN</td>\n",
       "      <td>NaN</td>\n",
       "      <td>NaN</td>\n",
       "      <td>...</td>\n",
       "      <td>0</td>\n",
       "      <td>0</td>\n",
       "      <td>0</td>\n",
       "      <td>0</td>\n",
       "      <td>0</td>\n",
       "      <td>0</td>\n",
       "      <td>0</td>\n",
       "      <td>0</td>\n",
       "      <td>0</td>\n",
       "      <td>0</td>\n",
       "    </tr>\n",
       "  </tbody>\n",
       "</table>\n",
       "<p>5 rows × 275 columns</p>\n",
       "</div>"
      ],
      "text/plain": [
       "     m1%   m2%   m3%  m4%  m5%  m6%  m7%  m8%  m9%  m10%   ...    m9_V  m9_Zr  \\\n",
       "0  99.90   NaN   NaN  NaN  NaN  NaN  NaN  NaN  NaN   NaN   ...       0      0   \n",
       "1  98.05  1.70  0.25  NaN  NaN  NaN  NaN  NaN  NaN   NaN   ...       0      0   \n",
       "2  97.85  1.90  0.25  NaN  NaN  NaN  NaN  NaN  NaN   NaN   ...       0      0   \n",
       "3  96.90  0.60  2.50  NaN  NaN  NaN  NaN  NaN  NaN   NaN   ...       0      0   \n",
       "4  97.07  0.38  1.55  1.0  NaN  NaN  NaN  NaN  NaN   NaN   ...       0      0   \n",
       "\n",
       "   m10_C  m10_Fe  m10_O  m10_Zr  m11_B  m11_C  m11_Co  m11_Cu  \n",
       "0      0       0      0       0      0      0       0       0  \n",
       "1      0       0      0       0      0      0       0       0  \n",
       "2      0       0      0       0      0      0       0       0  \n",
       "3      0       0      0       0      0      0       0       0  \n",
       "4      0       0      0       0      0      0       0       0  \n",
       "\n",
       "[5 rows x 275 columns]"
      ]
     },
     "execution_count": 12,
     "metadata": {},
     "output_type": "execute_result"
    }
   ],
   "source": [
    "# a look at the new data\n",
    "df.head()"
   ]
  },
  {
   "cell_type": "markdown",
   "metadata": {},
   "source": [
    "data in 24 columns got spread into 276 columns after one-hot-encoding"
   ]
  },
  {
   "cell_type": "code",
   "execution_count": 13,
   "metadata": {
    "scrolled": false
   },
   "outputs": [
    {
     "name": "stdout",
     "output_type": "stream",
     "text": [
      "m1% m2% m3% m4% m5% m6% m7% m8% m9% m10% m11% TS m1_Ag m1_Al m1_As m1_Au m1_B m1_Be m1_Bi m1_C m1_Cb m1_Cc m1_Cd m1_Co m1_Cr m1_Cu m1_Fe m1_H m1_Hf m1_In m1_Ir m1_La m1_Ma m1_Mg m1_Mn m1_Mo m1_N m1_Ni m1_O m1_P m1_Pb m1_Pd m1_Pt m1_Re m1_Rh m1_Ru m1_S m1_Sb m1_Se m1_Si m1_Sn m1_Ta m1_Te m1_Th m1_Ti m1_U m1_V m1_W m1_Y m1_Zn m1_Zr m2_Ag m2_Al m2_As m2_Au m2_B m2_Be m2_Bi m2_C m2_Cb m2_Cc m2_Cd m2_Co m2_Cr m2_Cu m2_Fe m2_H m2_Hf m2_In m2_Ir m2_La m2_Ma m2_Mg m2_Mn m2_Mo m2_N m2_Ni m2_O m2_P m2_Pb m2_Pd m2_Pt m2_Re m2_Rh m2_Ru m2_S m2_Sb m2_Se m2_Si m2_Sn m2_Ta m2_Te m2_Th m2_Ti m2_U m2_V m2_W m2_Y m2_Zn m2_Zr m3_Al m3_As m3_Au m3_B m3_Be m3_Bi m3_C m3_Cb m3_Cc m3_Cd m3_Co m3_Cr m3_Cu m3_Fe m3_H m3_Hf m3_In m3_Ir m3_La m3_Ma m3_Mg m3_Mn m3_Mo m3_N m3_Ni m3_O m3_P m3_Pb m3_Pd m3_Pt m3_Re m3_Rh m3_Ru m3_S m3_Sb m3_Se m3_Si m3_Sn m3_Ta m3_Te m3_Th m3_Ti m3_U m3_V m3_W m3_Y m3_Zn m3_Zr m4_Ag m4_Al m4_As m4_B m4_C m4_Cb m4_Cc m4_Cd m4_Co m4_Cr m4_Cu m4_Fe m4_Mg m4_Mn m4_Mo m4_N m4_Ni m4_Pb m4_S m4_Se m4_Si m4_Sn m4_Ti m4_V m4_W m4_Zn m4_Zr m5_Al m5_Bi m5_C m5_Cb m5_Co m5_Cr m5_Cu m5_Fe m5_H m5_Mg m5_Mn m5_Mo m5_N m5_Ni m5_Si m5_Sn m5_Ti m5_V m5_W m5_Zn m5_Zr m6_Al m6_C m6_Cb m6_Co m6_Cr m6_Cu m6_Fe m6_H m6_Mn m6_Mo m6_N m6_O m6_Si m6_Sn m6_Ti m6_W m7_Al m7_B m7_C m7_Cb m7_Co m7_Cu m7_Fe m7_H m7_La m7_Mn m7_Mo m7_N m7_Ni m7_O m7_S m7_Si m7_Ta m7_Ti m7_Zr m8_Al m8_B m8_C m8_Cb m8_Cu m8_H m8_La m8_Mn m8_N m8_O m8_Si m8_Ta m8_V m8_W m8_Y m8_Zr m9_B m9_C m9_Cb m9_H m9_O m9_Si m9_Ta m9_Ti m9_V m9_Zr m10_C m10_Fe m10_O m10_Zr m11_B m11_C m11_Co m11_Cu "
     ]
    }
   ],
   "source": [
    "# A look at all the 276 new columns created\n",
    "for i in df.columns:\n",
    "    print(i,end=' ')"
   ]
  },
  {
   "cell_type": "code",
   "execution_count": 14,
   "metadata": {},
   "outputs": [
    {
     "data": {
      "text/html": [
       "<div>\n",
       "<style scoped>\n",
       "    .dataframe tbody tr th:only-of-type {\n",
       "        vertical-align: middle;\n",
       "    }\n",
       "\n",
       "    .dataframe tbody tr th {\n",
       "        vertical-align: top;\n",
       "    }\n",
       "\n",
       "    .dataframe thead th {\n",
       "        text-align: right;\n",
       "    }\n",
       "</style>\n",
       "<table border=\"1\" class=\"dataframe\">\n",
       "  <thead>\n",
       "    <tr style=\"text-align: right;\">\n",
       "      <th></th>\n",
       "      <th>m1%</th>\n",
       "      <th>m2%</th>\n",
       "      <th>m3%</th>\n",
       "      <th>m4%</th>\n",
       "      <th>m5%</th>\n",
       "      <th>m6%</th>\n",
       "      <th>m7%</th>\n",
       "      <th>m8%</th>\n",
       "      <th>m9%</th>\n",
       "      <th>m10%</th>\n",
       "      <th>...</th>\n",
       "      <th>m9_V</th>\n",
       "      <th>m9_Zr</th>\n",
       "      <th>m10_C</th>\n",
       "      <th>m10_Fe</th>\n",
       "      <th>m10_O</th>\n",
       "      <th>m10_Zr</th>\n",
       "      <th>m11_B</th>\n",
       "      <th>m11_C</th>\n",
       "      <th>m11_Co</th>\n",
       "      <th>m11_Cu</th>\n",
       "    </tr>\n",
       "  </thead>\n",
       "  <tbody>\n",
       "    <tr>\n",
       "      <th>0</th>\n",
       "      <td>99.90</td>\n",
       "      <td>0.00</td>\n",
       "      <td>0.00</td>\n",
       "      <td>0.0</td>\n",
       "      <td>0.0</td>\n",
       "      <td>0.0</td>\n",
       "      <td>0.0</td>\n",
       "      <td>0.0</td>\n",
       "      <td>0.0</td>\n",
       "      <td>0.0</td>\n",
       "      <td>...</td>\n",
       "      <td>0</td>\n",
       "      <td>0</td>\n",
       "      <td>0</td>\n",
       "      <td>0</td>\n",
       "      <td>0</td>\n",
       "      <td>0</td>\n",
       "      <td>0</td>\n",
       "      <td>0</td>\n",
       "      <td>0</td>\n",
       "      <td>0</td>\n",
       "    </tr>\n",
       "    <tr>\n",
       "      <th>1</th>\n",
       "      <td>98.05</td>\n",
       "      <td>1.70</td>\n",
       "      <td>0.25</td>\n",
       "      <td>0.0</td>\n",
       "      <td>0.0</td>\n",
       "      <td>0.0</td>\n",
       "      <td>0.0</td>\n",
       "      <td>0.0</td>\n",
       "      <td>0.0</td>\n",
       "      <td>0.0</td>\n",
       "      <td>...</td>\n",
       "      <td>0</td>\n",
       "      <td>0</td>\n",
       "      <td>0</td>\n",
       "      <td>0</td>\n",
       "      <td>0</td>\n",
       "      <td>0</td>\n",
       "      <td>0</td>\n",
       "      <td>0</td>\n",
       "      <td>0</td>\n",
       "      <td>0</td>\n",
       "    </tr>\n",
       "    <tr>\n",
       "      <th>2</th>\n",
       "      <td>97.85</td>\n",
       "      <td>1.90</td>\n",
       "      <td>0.25</td>\n",
       "      <td>0.0</td>\n",
       "      <td>0.0</td>\n",
       "      <td>0.0</td>\n",
       "      <td>0.0</td>\n",
       "      <td>0.0</td>\n",
       "      <td>0.0</td>\n",
       "      <td>0.0</td>\n",
       "      <td>...</td>\n",
       "      <td>0</td>\n",
       "      <td>0</td>\n",
       "      <td>0</td>\n",
       "      <td>0</td>\n",
       "      <td>0</td>\n",
       "      <td>0</td>\n",
       "      <td>0</td>\n",
       "      <td>0</td>\n",
       "      <td>0</td>\n",
       "      <td>0</td>\n",
       "    </tr>\n",
       "    <tr>\n",
       "      <th>3</th>\n",
       "      <td>96.90</td>\n",
       "      <td>0.60</td>\n",
       "      <td>2.50</td>\n",
       "      <td>0.0</td>\n",
       "      <td>0.0</td>\n",
       "      <td>0.0</td>\n",
       "      <td>0.0</td>\n",
       "      <td>0.0</td>\n",
       "      <td>0.0</td>\n",
       "      <td>0.0</td>\n",
       "      <td>...</td>\n",
       "      <td>0</td>\n",
       "      <td>0</td>\n",
       "      <td>0</td>\n",
       "      <td>0</td>\n",
       "      <td>0</td>\n",
       "      <td>0</td>\n",
       "      <td>0</td>\n",
       "      <td>0</td>\n",
       "      <td>0</td>\n",
       "      <td>0</td>\n",
       "    </tr>\n",
       "    <tr>\n",
       "      <th>4</th>\n",
       "      <td>97.07</td>\n",
       "      <td>0.38</td>\n",
       "      <td>1.55</td>\n",
       "      <td>1.0</td>\n",
       "      <td>0.0</td>\n",
       "      <td>0.0</td>\n",
       "      <td>0.0</td>\n",
       "      <td>0.0</td>\n",
       "      <td>0.0</td>\n",
       "      <td>0.0</td>\n",
       "      <td>...</td>\n",
       "      <td>0</td>\n",
       "      <td>0</td>\n",
       "      <td>0</td>\n",
       "      <td>0</td>\n",
       "      <td>0</td>\n",
       "      <td>0</td>\n",
       "      <td>0</td>\n",
       "      <td>0</td>\n",
       "      <td>0</td>\n",
       "      <td>0</td>\n",
       "    </tr>\n",
       "  </tbody>\n",
       "</table>\n",
       "<p>5 rows × 275 columns</p>\n",
       "</div>"
      ],
      "text/plain": [
       "     m1%   m2%   m3%  m4%  m5%  m6%  m7%  m8%  m9%  m10%   ...    m9_V  m9_Zr  \\\n",
       "0  99.90  0.00  0.00  0.0  0.0  0.0  0.0  0.0  0.0   0.0   ...       0      0   \n",
       "1  98.05  1.70  0.25  0.0  0.0  0.0  0.0  0.0  0.0   0.0   ...       0      0   \n",
       "2  97.85  1.90  0.25  0.0  0.0  0.0  0.0  0.0  0.0   0.0   ...       0      0   \n",
       "3  96.90  0.60  2.50  0.0  0.0  0.0  0.0  0.0  0.0   0.0   ...       0      0   \n",
       "4  97.07  0.38  1.55  1.0  0.0  0.0  0.0  0.0  0.0   0.0   ...       0      0   \n",
       "\n",
       "   m10_C  m10_Fe  m10_O  m10_Zr  m11_B  m11_C  m11_Co  m11_Cu  \n",
       "0      0       0      0       0      0      0       0       0  \n",
       "1      0       0      0       0      0      0       0       0  \n",
       "2      0       0      0       0      0      0       0       0  \n",
       "3      0       0      0       0      0      0       0       0  \n",
       "4      0       0      0       0      0      0       0       0  \n",
       "\n",
       "[5 rows x 275 columns]"
      ]
     },
     "execution_count": 14,
     "metadata": {},
     "output_type": "execute_result"
    }
   ],
   "source": [
    "df.fillna(0,inplace=True) #this fills all the blank cells in the weights columns with zero\n",
    "df.head()"
   ]
  },
  {
   "cell_type": "markdown",
   "metadata": {},
   "source": [
    "After capturing categories, separating the newly generated compounds from the original alloy dataframe"
   ]
  },
  {
   "cell_type": "code",
   "execution_count": 15,
   "metadata": {
    "collapsed": true
   },
   "outputs": [],
   "source": [
    "new_dum = df[df['TS'] == 0]\n",
    "df = df[df['TS'] != 0]\n",
    "new_dum.drop(['TS'],axis='columns',inplace=True)"
   ]
  },
  {
   "cell_type": "markdown",
   "metadata": {},
   "source": [
    "## Defining the target variable and splitting data into train and test sets\n",
    "\n",
    "Supervised machine learning models require seggregation between the predictor variables and target variable. The original datafrem df's predictor variables are stored in the dataframe X, while the target is stored in y"
   ]
  },
  {
   "cell_type": "code",
   "execution_count": 16,
   "metadata": {
    "collapsed": true
   },
   "outputs": [],
   "source": [
    "X = df.drop(['TS'],axis='columns')\n",
    "y = df['TS']"
   ]
  },
  {
   "cell_type": "markdown",
   "metadata": {},
   "source": [
    "Splitting the data into train and test sets helps check the model performance on unseen data. The code in the below cell splits the predictors and target dataframes into 'train predictors', 'train targets', 'test predictors', and 'test targets'."
   ]
  },
  {
   "cell_type": "code",
   "execution_count": 17,
   "metadata": {
    "collapsed": true
   },
   "outputs": [],
   "source": [
    "X_train,X_test,y_train,y_test = train_test_split(X,y,random_state=0)"
   ]
  },
  {
   "cell_type": "markdown",
   "metadata": {},
   "source": [
    "## Train and test sets\n",
    "\n",
    "A look at the test and train sets created above"
   ]
  },
  {
   "cell_type": "code",
   "execution_count": 43,
   "metadata": {},
   "outputs": [
    {
     "data": {
      "text/plain": [
       "132                                            Ni50,Ti50\n",
       "66                                            Al95.0,Si5\n",
       "261                   Fe75.03,Cr17,Ni7,Ti0.7,Al0.2,C0.07\n",
       "12                                      Cu89.8,Sn10,P0.2\n",
       "120                  Ni95.6,Cu0.5,Fe0.5,Mn0.8,Si1.5,C0.8\n",
       "153              Ni77.4,Cr20.5,Al0.15,Ti0.35,Fe0.5,C0.10\n",
       "289                        Fe68.42,Cr19,Ni10,Mo2.5,C0.08\n",
       "275           Fe72.74,Cr26,Mo1,Mn0.05,Si0.2,N0.01,C0.002\n",
       "17                                             Cu79,Ni21\n",
       "231                                  Fe70.0,Cr18,Ni10,B2\n",
       "324                                               Cb99.6\n",
       "322                              Fe16.45,Cr17,Ni66,C0.55\n",
       "225                      Fe67.6,Cr18,Ni5,Mn9,N0.25,C0.15\n",
       "348                                                Ir100\n",
       "103                                 Fe55.0,Al12,Ni28,Cc5\n",
       "146    Ni52,Cr22,Co12.5,Mo9,Al1.2,Fe1.5,Mn0.5,Si0.5,T...\n",
       "191         Fe55.99,Ni26,Cr13.5,Mo2.7,Ti1.7,Al0.1,B0.005\n",
       "347                                                   Pd\n",
       "124                                              Ni99.98\n",
       "173    Ni60.73,Cr10,Co15,Mo3,Ti4.7,Al5.5,B0.014,V1,Zr...\n",
       "293                               Fe62.8,Cr24,Ni13,C0.20\n",
       "145         Ni70.3,Cr15.5,Fe9,Cb2,Si1.6,Mn0.9,Cu0.5,C0.2\n",
       "217                                 Fe60.6,Ni35,Si2,C2.4\n",
       "81               Ti99.58,C0.08,Fe0.12,N0.03,H0.015,O0.18\n",
       "1                                   Cu98.05,Be1.7,Co0.25\n",
       "133                     Ni66,Cu31.5,Fe1.1,Mn1,Si0.2,C0.2\n",
       "8                                            Cu61,Zn39.0\n",
       "259                          Fe74.4,Cr14,Ni8,Mo2.5,Al1.1\n",
       "237                       Fe67.72,Cr17,Ni13,Mo2.25,C0.03\n",
       "150    Ni52.5,Cr19,Fe18.5,Al0.5,Ti0.9,Cb5.1,Mo3.0,Mn0...\n",
       "                             ...                        \n",
       "99                                 Ni77,Cu5,Cr2.5,Fe15.5\n",
       "197            Fe95.17,C0.20,Mn0.60,Si0.28,Ni3.50,Mo0.25\n",
       "243           Fe47.68,Cr20,Ni24,Mo6.3,Mn1.5,Si0.5,C0.025\n",
       "115                 Ni38,Fe54.13,Cr7,Mn0.45,Si0.30,C0.12\n",
       "265             Fe62.75,Cr17,Ni14,Cu3,Mo2.5,Ti0.25,Cb0.5\n",
       "72                                  Al92.5,Mg1.5,Ni2,Cu4\n",
       "333                                             W75,Re25\n",
       "25                                          Cu85,Ni9,Sn6\n",
       "165                 Ni54.45,Cr28,Mo8.5,Cu5.5,Si3.5,C0.05\n",
       "342                                         Ag92.5,Cu7.5\n",
       "174    Ni67.97,Cr15,Mo3,W3,Cb3,Fe7,Ti0.6,Al0.4,B0.005...\n",
       "344                              Ag50,Cd18,Zn16.5,Cu15.5\n",
       "39                   Cu87.0,Ni10,Mn0.9,Fe1.4,Si0.2,Cb0.5\n",
       "193                           Fe99.1,C0.20,Mn0.45,Si0.25\n",
       "314                               Fe49.6,Cr30,Ni20,C0.40\n",
       "88     Ti85.3,Al5.5,V5.5,Sn2,Cu0.7,Fe0.7,C0.05,N0.04,...\n",
       "70                                           Al90.0,Mg10\n",
       "87     Ti85.64,Al6,Sn2,Zr4,Mo2,C0.04,Fe0.15,N0.04,H0....\n",
       "292                        Fe66.42,Cr19,Ni11,Mo3.5,C0.08\n",
       "242                              Fe65.92,Cr16,Ni18,C0.08\n",
       "277         Fe64.47,Cr29,Mo4,Ni2,Mn0.3,Si0.2,N0.02,C0.01\n",
       "211                              C2.5,Si1,Mn0.55,Fe95.95\n",
       "9                                Cu71,Zn27.94,Sn1,As0.06\n",
       "195     Fe95.72,C0.40,Mn0.70,Si0.28,Ni1.85,Cr0.80,Mo0.25\n",
       "251               Fe64.62,Cr18,Ni3,Mn13,Si1.0,N0.3,C0.08\n",
       "323             Fe48.1,Cr24,Ni24,Cb1.6,Mn1.0,Si1.0,C0.30\n",
       "192                                               Fe99.9\n",
       "117                 Ni36.85,Fe54.25,Mn0.55,Cr7.10,Mo0.45\n",
       "47                               Bi50,Pb26.7,Sn13.3,Cd10\n",
       "172             Ni26,Cr15,Mo1.3,Fe55.48,Ti2,Al0.2,B0.015\n",
       "Name: composition, Length: 267, dtype: object"
      ]
     },
     "execution_count": 43,
     "metadata": {},
     "output_type": "execute_result"
    }
   ],
   "source": [
    "# Alloys used in the train dataset\n",
    "data.loc[X_train.index]['composition']"
   ]
  },
  {
   "cell_type": "code",
   "execution_count": 44,
   "metadata": {},
   "outputs": [
    {
     "data": {
      "text/plain": [
       "6                                              Cu70,Zn30\n",
       "140                       Ni32,Cr20.5,Fe44.5,C0.05,Ti1.1\n",
       "302    Fe41.43,Cr20.5,Ni29,Cu3.5,Mo2.5,Mn1.5,Si1.5,C0.07\n",
       "220                  Fe89.5,Ni4.5,Cr2.1,C2.8,Si0.5,Mn0.6\n",
       "90     Ti81.66,Al6,Sn2,Zr4,Mo6,C0.04,Fe0.15,N0.02,H0....\n",
       "229                           Fe71.92,Cr18.5,Ni9.5,C0.08\n",
       "114                  Fe58.4,Ni33,Cr5,W2,Mn0.6,Si0.5,C0.5\n",
       "60                                                Al99.0\n",
       "37                                Cu87.0,Ni5,Sn5,Pb1,Zn2\n",
       "296                        Fe63.0,Cr26,Ni5.5,Mo2.5,Cu3.0\n",
       "26                                  Cu81.8,Ni9,Sn8,Cb0.2\n",
       "286                              Fe70.97,Cr19,Ni10,C0.03\n",
       "234                              Fe54.75,Cr25,Ni20,C0.25\n",
       "287                               Fe71.92,Cr19,Ni9,C0.08\n",
       "136                 Ni66,Cu31,Fe1.2,Mn1,Si0.2,C0.2,S0.04\n",
       "213               Fe69.75,Ni15.5,Si2,Mn1.25,Cu6.5,Cr2,C3\n",
       "135                       Ni54.5,Cu45,Mn0.05,Fe0.2,C0.08\n",
       "282                     Fe76.63,Cr15,Ni5,Cu3,Cb0.3,C0.07\n",
       "65                                           Al88.0,Si12\n",
       "167       Ni55.5,Cr28,Mo8.5,Cu5.5,Fe1,Mn1.25,Si0.2,C0.05\n",
       "199      Fe94.5,C0.10,Mn0.55,Si0.28,Ni3.25,Cr1.20,Mo0.12\n",
       "304                 Fe65.47,Cr26,Ni6.8,Mn0.7,Si1.0,C0.03\n",
       "45                                         Bi55.5,Pb44.5\n",
       "235                        Fe52.25,Cr25,Ni20,Si2.5,C0.25\n",
       "233                             Fe63.3,Cr23,Ni13.5,C0.20\n",
       "176    Ni48.24,Cr22.5,Co19,Ti3.7,Al1.9,W2.0,Ta1.4,Cb1...\n",
       "76                            Mg90.47,Al8.7,Zn0.7,Mn0.13\n",
       "78                                  Mg96.05,Th3.25,Zr0.7\n",
       "15                                          Cu96.7,Si3.3\n",
       "100                                          Ni48,Fe52.0\n",
       "                             ...                        \n",
       "59                                        Mn72,Cu18,Ni10\n",
       "101                            Fe53.0,Al10,Ni18,Co13,Cu6\n",
       "134                              Ni42.5,Cu55,Mn1.6,Fe0.4\n",
       "56                                    Zn98.99,Mg0.01,Cu1\n",
       "116                Ni42.2,Mn0.4,Fe48.5,Cr5.3,Ti2.6,Al0.6\n",
       "246      Fe46.88,Cr20,Ni25,Mo4.5,Cu1.5,Mn1.7,Si0.4,C0.02\n",
       "186                       Co63.55,Cr21,W11,Cb2,Fe2,C0.45\n",
       "164              Ni57.93,Cr18.5,Mo18.5,Fe3,Mn1,Si1,C0.07\n",
       "156                       Ni57.5,Cr15,Co15,Mo3.5,Ti4,Al5\n",
       "196            Fe96.92,C0.20,Mn0.55,Si0.28,Ni1.80,Mo0.25\n",
       "63                        Al97.9,Si0.6,Cu0.25,Mg1,Cr0.25\n",
       "299        Ni63.58,Cr1.0,Mo28,Fe5,V0.3,Mn1.0,Si1.0,C0.12\n",
       "247        Fe43.25,Cr22,Ni26,Mn2.5,Mo5,Si1.0,Ti0.2,C0.05\n",
       "310                                Fe69.7,Cr21,Ni9,C0.30\n",
       "338                                             Au99.995\n",
       "142         Ni42,Cr21.5,Fe30,Cu2.2,Mo3,Ti0.9,Al0.1,C0.03\n",
       "21                         Cu82.2,Ni16,Fe0.8,Cr0.5,Mn0.5\n",
       "315                              Fe53.65,Cr21,Ni25,C0.35\n",
       "141                                Ni32.5,Cr21,Fe46,C0.4\n",
       "49                                                Pb99.9\n",
       "311                              Fe61.65,Cr26,Ni12,C0.35\n",
       "345                                       Ag60,Cu25,Zn15\n",
       "269                             Fe85.35,Cr12.5,Ni2,C0.15\n",
       "181        Ni53.39,Cr19,Co11,Mo10,Fe2,Ti3.1,Al1.5,B0.005\n",
       "260                            Fe75.8,Cr13,Ni8,Mo2.2,Al1\n",
       "102                                 Fe59.0,Al12,Ni26,Cu3\n",
       "22                                             Cu55,Ni45\n",
       "122                             Ni99.5,Mn0.2,Fe0.2,C0.01\n",
       "89      Ti89.11,Al6.3,V4,C0.08,Fe0.25,N0.05,H0.015,O0.20\n",
       "144       Ni60.5,Cr23,Fe14,Al1.4,Mn0.5,Si0.2,C0.05,Cu0.5\n",
       "Name: composition, Length: 90, dtype: object"
      ]
     },
     "execution_count": 44,
     "metadata": {},
     "output_type": "execute_result"
    }
   ],
   "source": [
    "# Alloys in the test dataset\n",
    "data.loc[X_test.index]['composition']"
   ]
  },
  {
   "cell_type": "markdown",
   "metadata": {},
   "source": [
    "# Building the model\n",
    "## Random Forest for Regression"
   ]
  },
  {
   "cell_type": "markdown",
   "metadata": {},
   "source": [
    "Now that the train and test datasets are ready, below cell creates a Random Forest model instance using RandomForestRegressor class from scikit learn"
   ]
  },
  {
   "cell_type": "code",
   "execution_count": 18,
   "metadata": {
    "collapsed": true
   },
   "outputs": [],
   "source": [
    "#This code creates a model instance with all the hyperparameters of the random forest model set\n",
    "rf = RandomForestRegressor(bootstrap=True, max_depth=None,\n",
    "           max_features='auto', max_leaf_nodes=None,\n",
    "           min_impurity_decrease=9, min_impurity_split=None,\n",
    "           min_samples_leaf=1, min_samples_split=2,\n",
    "           min_weight_fraction_leaf=0.0, n_estimators=10, n_jobs=1,\n",
    "           oob_score=False, random_state=0, verbose=0, warm_start=False)"
   ]
  },
  {
   "cell_type": "markdown",
   "metadata": {},
   "source": [
    "## Fitting the model"
   ]
  },
  {
   "cell_type": "markdown",
   "metadata": {},
   "source": [
    "Now the random forest algorithm is fit on the train predictors and train target to learn the model. The learnt model is then used to predict the target variable (Tensile Strength) using train predictors and error is noted. \n",
    "\n",
    "Later, the same model is used to predict the test target variable using the test predictors. The last step gives us the metric to evaluate the model on heldout data."
   ]
  },
  {
   "cell_type": "code",
   "execution_count": 19,
   "metadata": {},
   "outputs": [
    {
     "data": {
      "text/plain": [
       "RandomForestRegressor(bootstrap=True, criterion='mse', max_depth=None,\n",
       "           max_features='auto', max_leaf_nodes=None,\n",
       "           min_impurity_decrease=9, min_impurity_split=None,\n",
       "           min_samples_leaf=1, min_samples_split=2,\n",
       "           min_weight_fraction_leaf=0.0, n_estimators=10, n_jobs=1,\n",
       "           oob_score=False, random_state=0, verbose=0, warm_start=False)"
      ]
     },
     "execution_count": 19,
     "metadata": {},
     "output_type": "execute_result"
    }
   ],
   "source": [
    "rf.fit(X_train,y_train)"
   ]
  },
  {
   "cell_type": "markdown",
   "metadata": {},
   "source": [
    "## Predicting train target using the model to evaluate how the model performs on seen data"
   ]
  },
  {
   "cell_type": "code",
   "execution_count": 26,
   "metadata": {},
   "outputs": [
    {
     "name": "stdout",
     "output_type": "stream",
     "text": [
      "RF train error:  14.146695100437274\n"
     ]
    }
   ],
   "source": [
    "rf_train_preds = rf.predict(X_train)\n",
    "print('RF train error: ',mae(y_train,rf_train_preds))"
   ]
  },
  {
   "cell_type": "markdown",
   "metadata": {},
   "source": [
    "The error on train set is 14.14\n",
    "\n",
    "## Checking model performance on unseen data (the test set)"
   ]
  },
  {
   "cell_type": "code",
   "execution_count": 21,
   "metadata": {},
   "outputs": [
    {
     "name": "stdout",
     "output_type": "stream",
     "text": [
      "RF test error :  19.55008921127267\n"
     ]
    }
   ],
   "source": [
    "rf_test_preds = rf.predict(X_test)\n",
    "print('RF test error : ',mae(y_test,rf_test_preds))"
   ]
  },
  {
   "cell_type": "markdown",
   "metadata": {},
   "source": [
    "The error on unseen data is 19.55"
   ]
  },
  {
   "cell_type": "markdown",
   "metadata": {},
   "source": [
    "# Predicting tensile strengths of new compounds\n",
    "Passing the newly created compounds data to the model to predict their tensile strengths"
   ]
  },
  {
   "cell_type": "code",
   "execution_count": 22,
   "metadata": {
    "collapsed": true
   },
   "outputs": [],
   "source": [
    "predictd_TS = rf.predict(new_dum)"
   ]
  },
  {
   "cell_type": "code",
   "execution_count": 23,
   "metadata": {
    "collapsed": true
   },
   "outputs": [],
   "source": [
    "#adding the predicted tensile strengths as a column to the new compounds dataframe\n",
    "new['Predicted_TS'] = predictd_TS.round(2)"
   ]
  },
  {
   "cell_type": "code",
   "execution_count": 24,
   "metadata": {},
   "outputs": [
    {
     "data": {
      "text/html": [
       "<div>\n",
       "<style scoped>\n",
       "    .dataframe tbody tr th:only-of-type {\n",
       "        vertical-align: middle;\n",
       "    }\n",
       "\n",
       "    .dataframe tbody tr th {\n",
       "        vertical-align: top;\n",
       "    }\n",
       "\n",
       "    .dataframe thead th {\n",
       "        text-align: right;\n",
       "    }\n",
       "</style>\n",
       "<table border=\"1\" class=\"dataframe\">\n",
       "  <thead>\n",
       "    <tr style=\"text-align: right;\">\n",
       "      <th></th>\n",
       "      <th>composition</th>\n",
       "      <th>m1</th>\n",
       "      <th>m1%</th>\n",
       "      <th>m2</th>\n",
       "      <th>m2%</th>\n",
       "      <th>m3</th>\n",
       "      <th>m3%</th>\n",
       "      <th>Predicted_TS</th>\n",
       "    </tr>\n",
       "  </thead>\n",
       "  <tbody>\n",
       "    <tr>\n",
       "      <th>0</th>\n",
       "      <td>Ag14.3,Al34.5,As51.2</td>\n",
       "      <td>Ag</td>\n",
       "      <td>14.30</td>\n",
       "      <td>Al</td>\n",
       "      <td>34.50</td>\n",
       "      <td>As</td>\n",
       "      <td>51.20</td>\n",
       "      <td>63.91</td>\n",
       "    </tr>\n",
       "    <tr>\n",
       "      <th>1</th>\n",
       "      <td>Ag35.28,Al6.95,Au57.77</td>\n",
       "      <td>Ag</td>\n",
       "      <td>35.28</td>\n",
       "      <td>Al</td>\n",
       "      <td>6.95</td>\n",
       "      <td>Au</td>\n",
       "      <td>57.77</td>\n",
       "      <td>60.75</td>\n",
       "    </tr>\n",
       "    <tr>\n",
       "      <th>2</th>\n",
       "      <td>Ag32.11,Al25.09,B42.8</td>\n",
       "      <td>Ag</td>\n",
       "      <td>32.11</td>\n",
       "      <td>Al</td>\n",
       "      <td>25.09</td>\n",
       "      <td>B</td>\n",
       "      <td>42.80</td>\n",
       "      <td>63.91</td>\n",
       "    </tr>\n",
       "    <tr>\n",
       "      <th>3</th>\n",
       "      <td>Ag71.65,Al19.84,Be8.51</td>\n",
       "      <td>Ag</td>\n",
       "      <td>71.65</td>\n",
       "      <td>Al</td>\n",
       "      <td>19.84</td>\n",
       "      <td>Be</td>\n",
       "      <td>8.51</td>\n",
       "      <td>59.89</td>\n",
       "    </tr>\n",
       "    <tr>\n",
       "      <th>4</th>\n",
       "      <td>Ag61.16,Al18.06,Bi20.78</td>\n",
       "      <td>Ag</td>\n",
       "      <td>61.16</td>\n",
       "      <td>Al</td>\n",
       "      <td>18.06</td>\n",
       "      <td>Bi</td>\n",
       "      <td>20.78</td>\n",
       "      <td>59.89</td>\n",
       "    </tr>\n",
       "  </tbody>\n",
       "</table>\n",
       "</div>"
      ],
      "text/plain": [
       "               composition  m1    m1%  m2    m2%  m3    m3%  Predicted_TS\n",
       "0     Ag14.3,Al34.5,As51.2  Ag  14.30  Al  34.50  As  51.20         63.91\n",
       "1   Ag35.28,Al6.95,Au57.77  Ag  35.28  Al   6.95  Au  57.77         60.75\n",
       "2    Ag32.11,Al25.09,B42.8  Ag  32.11  Al  25.09   B  42.80         63.91\n",
       "3   Ag71.65,Al19.84,Be8.51  Ag  71.65  Al  19.84  Be   8.51         59.89\n",
       "4  Ag61.16,Al18.06,Bi20.78  Ag  61.16  Al  18.06  Bi  20.78         59.89"
      ]
     },
     "execution_count": 24,
     "metadata": {},
     "output_type": "execute_result"
    }
   ],
   "source": [
    "# A look at the new final dataframe\n",
    "new.head()"
   ]
  },
  {
   "cell_type": "markdown",
   "metadata": {},
   "source": [
    "## Exporting the new compounds dataframe as a csv document to the local drive"
   ]
  },
  {
   "cell_type": "code",
   "execution_count": 25,
   "metadata": {
    "collapsed": true
   },
   "outputs": [],
   "source": [
    "new.to_csv(r'C:\\Users\\hchintada\\Downloads\\TS_Project\\New_Compound_Predictions.csv',index=False)\n",
    "#please replace the above location with your local drive location where you want the file to be exported to"
   ]
  }
 ],
 "metadata": {
  "kernelspec": {
   "display_name": "Python 3",
   "language": "python",
   "name": "python3"
  },
  "language_info": {
   "codemirror_mode": {
    "name": "ipython",
    "version": 3
   },
   "file_extension": ".py",
   "mimetype": "text/x-python",
   "name": "python",
   "nbconvert_exporter": "python",
   "pygments_lexer": "ipython3",
   "version": "3.6.1"
  }
 },
 "nbformat": 4,
 "nbformat_minor": 2
}
